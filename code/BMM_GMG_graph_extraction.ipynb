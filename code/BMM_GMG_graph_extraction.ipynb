{
  "cells": [
    {
      "cell_type": "markdown",
      "source": [
        "# Graph extraction"
      ],
      "metadata": {
        "id": "7KVILfLf4LRj"
      }
    },
    {
      "cell_type": "markdown",
      "source": [
        "#### Extract vertices\n",
        "\n",
        "По описанию на естественном языке должны извлекаться вершины."
      ],
      "metadata": {
        "id": "U3lg4Bza8UeA"
      }
    },
    {
      "cell_type": "code",
      "source": [
        "!pip install openai langchain langchain_openai -q"
      ],
      "metadata": {
        "colab": {
          "base_uri": "https://localhost:8080/"
        },
        "collapsed": true,
        "id": "vVADTn558209",
        "outputId": "1bc46261-588d-45bf-ca4b-1f299cc14785"
      },
      "execution_count": 1,
      "outputs": [
        {
          "output_type": "stream",
          "name": "stdout",
          "text": [
            "\u001b[2K     \u001b[90m━━━━━━━━━━━━━━━━━━━━━━━━━━━━━━━━━━━━━━━━\u001b[0m \u001b[32m50.6/50.6 kB\u001b[0m \u001b[31m2.6 MB/s\u001b[0m eta \u001b[36m0:00:00\u001b[0m\n",
            "\u001b[2K   \u001b[90m━━━━━━━━━━━━━━━━━━━━━━━━━━━━━━━━━━━━━━━━\u001b[0m \u001b[32m386.9/386.9 kB\u001b[0m \u001b[31m10.3 MB/s\u001b[0m eta \u001b[36m0:00:00\u001b[0m\n",
            "\u001b[2K   \u001b[90m━━━━━━━━━━━━━━━━━━━━━━━━━━━━━━━━━━━━━━━━\u001b[0m \u001b[32m1.0/1.0 MB\u001b[0m \u001b[31m37.0 MB/s\u001b[0m eta \u001b[36m0:00:00\u001b[0m\n",
            "\u001b[2K   \u001b[90m━━━━━━━━━━━━━━━━━━━━━━━━━━━━━━━━━━━━━━━━\u001b[0m \u001b[32m49.9/49.9 kB\u001b[0m \u001b[31m3.5 MB/s\u001b[0m eta \u001b[36m0:00:00\u001b[0m\n",
            "\u001b[2K   \u001b[90m━━━━━━━━━━━━━━━━━━━━━━━━━━━━━━━━━━━━━━━━\u001b[0m \u001b[32m76.4/76.4 kB\u001b[0m \u001b[31m5.9 MB/s\u001b[0m eta \u001b[36m0:00:00\u001b[0m\n",
            "\u001b[2K   \u001b[90m━━━━━━━━━━━━━━━━━━━━━━━━━━━━━━━━━━━━━━━━\u001b[0m \u001b[32m78.0/78.0 kB\u001b[0m \u001b[31m5.9 MB/s\u001b[0m eta \u001b[36m0:00:00\u001b[0m\n",
            "\u001b[2K   \u001b[90m━━━━━━━━━━━━━━━━━━━━━━━━━━━━━━━━━━━━━━━━\u001b[0m \u001b[32m325.2/325.2 kB\u001b[0m \u001b[31m11.3 MB/s\u001b[0m eta \u001b[36m0:00:00\u001b[0m\n",
            "\u001b[2K   \u001b[90m━━━━━━━━━━━━━━━━━━━━━━━━━━━━━━━━━━━━━━━━\u001b[0m \u001b[32m408.0/408.0 kB\u001b[0m \u001b[31m23.9 MB/s\u001b[0m eta \u001b[36m0:00:00\u001b[0m\n",
            "\u001b[2K   \u001b[90m━━━━━━━━━━━━━━━━━━━━━━━━━━━━━━━━━━━━━━━━\u001b[0m \u001b[32m296.9/296.9 kB\u001b[0m \u001b[31m16.5 MB/s\u001b[0m eta \u001b[36m0:00:00\u001b[0m\n",
            "\u001b[2K   \u001b[90m━━━━━━━━━━━━━━━━━━━━━━━━━━━━━━━━━━━━━━━━\u001b[0m \u001b[32m1.2/1.2 MB\u001b[0m \u001b[31m26.2 MB/s\u001b[0m eta \u001b[36m0:00:00\u001b[0m\n",
            "\u001b[2K   \u001b[90m━━━━━━━━━━━━━━━━━━━━━━━━━━━━━━━━━━━━━━━━\u001b[0m \u001b[32m144.5/144.5 kB\u001b[0m \u001b[31m10.4 MB/s\u001b[0m eta \u001b[36m0:00:00\u001b[0m\n",
            "\u001b[2K   \u001b[90m━━━━━━━━━━━━━━━━━━━━━━━━━━━━━━━━━━━━━━━━\u001b[0m \u001b[32m54.5/54.5 kB\u001b[0m \u001b[31m3.7 MB/s\u001b[0m eta \u001b[36m0:00:00\u001b[0m\n",
            "\u001b[2K   \u001b[90m━━━━━━━━━━━━━━━━━━━━━━━━━━━━━━━━━━━━━━━━\u001b[0m \u001b[32m58.3/58.3 kB\u001b[0m \u001b[31m4.6 MB/s\u001b[0m eta \u001b[36m0:00:00\u001b[0m\n",
            "\u001b[?25h"
          ]
        }
      ]
    },
    {
      "cell_type": "code",
      "source": [
        "import os\n",
        "from google.colab import userdata\n",
        "from langchain_openai import ChatOpenAI\n",
        "from langchain.schema import (\n",
        "    AIMessage,\n",
        "    HumanMessage,\n",
        "    SystemMessage\n",
        ")\n",
        "from langchain.prompts import PromptTemplate, HumanMessagePromptTemplate\n",
        "\n",
        "\n",
        "chat = ChatOpenAI(\n",
        "    model='gpt-4o-mini',\n",
        "    base_url=\"https://api.proxyapi.ru/openai/v1\",\n",
        "    api_key=userdata.get('proxyai_api_key'),\n",
        ")"
      ],
      "metadata": {
        "id": "FHx6bJga8YCT"
      },
      "execution_count": 2,
      "outputs": []
    },
    {
      "cell_type": "code",
      "source": [
        "from openai import OpenAI, AsyncOpenAI\n",
        "from typing import List\n",
        "from pydantic import BaseModel\n",
        "import json\n",
        "\n",
        "def get_messages_for_node_extraction(descr: str) -> str:\n",
        "\n",
        "    node_extraction_sys_message = '''\n",
        "            ###ROLE###\n",
        "            You are Graphical model scientist.\n",
        "            You task is to extract information about DAG from text description.\n",
        "            The structure, or topology, of the network should capture qualitative relationships between variables. In particular, two nodes should be connected directly if one affects or causes the other, with the arc indicating the direction of the effect.\n",
        "            The presence of arrows or arcs seems to imply, at an intuitive level, that for each arc one variable should be interpreted as a cause and the other as an effect (e.g., A →E means that A causes E). This interpretation is called causal.\n",
        "\n",
        "            For every right answer I give you 5$.\n",
        "        '''\n",
        "\n",
        "    node_extraction_str_template = f'''\n",
        "        ###TASK###\n",
        "        Extract all node names of GAD from the description, the user gaves you.\n",
        "\n",
        "        ###OUTPUT FORMAT###\n",
        "        You output should be list of strings\n",
        "\n",
        "        ###\n",
        "\n",
        "        User: Imagine a garden where the growth of plants depends on several factors. The amount of Watering affects how well the plants grow. Sunlight is another crucial factor, as it provides energy for photosynthesis. Fertilizer also plays a role by supplying essential nutrients. Together, these factors influence Plant Growth. Additionally, Watering can impact the effectiveness of Fertilizer, as nutrients are better absorbed when the soil is moist.\n",
        "        Assistant: ['Watering', 'Sunlight', 'Fertilizer', 'Plant Growth']\n",
        "\n",
        "        ###\n",
        "\n",
        "        User: {descr}\n",
        "        Assistant:\n",
        "    '''\n",
        "\n",
        "\n",
        "    messages = [\n",
        "        {\n",
        "            'role': 'system',\n",
        "            'content': node_extraction_sys_message\n",
        "        },\n",
        "        {\n",
        "            'role': 'user',\n",
        "            'content': node_extraction_str_template\n",
        "        }\n",
        "    ]\n",
        "\n",
        "    return messages\n",
        "\n",
        "class Nodes(BaseModel):\n",
        "    list_of_nodes: List[str]\n",
        "\n",
        "def extract_nodes_gpt(descr, gpt_client, gpt_model='gpt-4o-mini', temperature=0):\n",
        "    completion = gpt_client.beta.chat.completions.parse(\n",
        "        model=gpt_model,\n",
        "        messages=get_messages_for_node_extraction(descr),\n",
        "        response_format=Nodes,\n",
        "        temperature=temperature,\n",
        "    )\n",
        "    return json.loads(completion.choices[0].message.content)['list_of_nodes']\n",
        "\n",
        "client = OpenAI(\n",
        "    base_url='https://api.proxyapi.ru/openai/v1',\n",
        "    api_key=userdata.get('proxyai_api_key'),\n",
        ")"
      ],
      "metadata": {
        "id": "Tuc8DECA9Pp4"
      },
      "execution_count": 32,
      "outputs": []
    },
    {
      "cell_type": "code",
      "source": [
        "example = '''Think about a classroom where student learning is shaped by different factors. The amount of Time Spent Studying directly influences Knowledge Acquisition. Teacher Quality also affects how well students understand the material. Classroom Environment, such as noise levels and seating arrangements, can impact both Teacher Quality and Knowledge Acquisition. Altogether, these elements contribute to a student's overall Learning Outcome.'''.lower()"
      ],
      "metadata": {
        "id": "cEAaqNc6S3CO"
      },
      "execution_count": 33,
      "outputs": []
    },
    {
      "cell_type": "code",
      "source": [
        "extract_nodes_gpt(example, client, gpt_model='gpt-4o-mini', temperature=0)"
      ],
      "metadata": {
        "colab": {
          "base_uri": "https://localhost:8080/"
        },
        "id": "lQDLwNuVSxfy",
        "outputId": "aef24069-7fe5-410b-b020-dee3467a3b51"
      },
      "execution_count": 36,
      "outputs": [
        {
          "output_type": "execute_result",
          "data": {
            "text/plain": [
              "['Time Spent Studying',\n",
              " 'Knowledge Acquisition',\n",
              " 'Teacher Quality',\n",
              " 'Classroom Environment',\n",
              " 'Learning Outcome']"
            ]
          },
          "metadata": {},
          "execution_count": 36
        }
      ]
    },
    {
      "cell_type": "code",
      "source": [
        "extract_nodes_gpt(example, client, gpt_model='gpt-4o')"
      ],
      "metadata": {
        "colab": {
          "base_uri": "https://localhost:8080/"
        },
        "id": "nqlehfd-TB9X",
        "outputId": "dc1648c5-013d-4d0c-aa93-11b8b31bfeff"
      },
      "execution_count": 37,
      "outputs": [
        {
          "output_type": "execute_result",
          "data": {
            "text/plain": [
              "['Studying',\n",
              " 'Knowledge Acquisition',\n",
              " 'Teacher Quality',\n",
              " 'Classroom Environment',\n",
              " 'Learning Outcome']"
            ]
          },
          "metadata": {},
          "execution_count": 37
        }
      ]
    },
    {
      "cell_type": "code",
      "source": [
        "import pandas as pd\n",
        "path_to_save = '/content/drive/MyDrive/BMM_2024_GMG'\n",
        "graphs_with_description = pd.read_csv(path_to_save + '/Training_graphs.csv', index_col=None).drop(['Unnamed: 0'], axis=1)"
      ],
      "metadata": {
        "id": "4mtF4MeUTKuK"
      },
      "execution_count": 29,
      "outputs": []
    },
    {
      "cell_type": "code",
      "source": [
        "graphs_with_description"
      ],
      "metadata": {
        "colab": {
          "base_uri": "https://localhost:8080/",
          "height": 244
        },
        "id": "i9l4Q_KMTjT7",
        "outputId": "108c312d-3fe6-4748-9891-08fa1a7f8fd4"
      },
      "execution_count": 30,
      "outputs": [
        {
          "output_type": "execute_result",
          "data": {
            "text/plain": [
              "                                               nodes  \\\n",
              "0  ['asia', 'tub', 'smoke', 'lung', 'bronc', 'eit...   \n",
              "1  ['Pollution', 'Smoker', 'Cancer', 'Xray', 'Dys...   \n",
              "2  ['Burglary', 'Earthquake', 'Alarm', 'JohnCalls...   \n",
              "3                     ['A', 'S', 'E', 'O', 'R', 'T']   \n",
              "\n",
              "                                               edges  \\\n",
              "0  [('asia', 'tub'), ('tub', 'either'), ('smoke',...   \n",
              "1  [('Pollution', 'Cancer'), ('Smoker', 'Cancer')...   \n",
              "2  [('Burglary', 'Alarm'), ('Earthquake', 'Alarm'...   \n",
              "3  [('A', 'E'), ('S', 'E'), ('E', 'O'), ('E', 'R'...   \n",
              "\n",
              "                                               descr  \\\n",
              "0  Shortness-of-breath (dyspnoea) may be due to t...   \n",
              "1  So, in our medical diagnosis example, we might...   \n",
              "2  You have a new burglar alarm installed. It rel...   \n",
              "3  \\nIn our current example we will examine, for ...   \n",
              "\n",
              "                                         node_distrs  \\\n",
              "0  {'asia': 'Binary', 'smoke': 'Binary', 'bronc':...   \n",
              "1  {'Pollution': 'Binary', 'Smoker': 'Binary', 'C...   \n",
              "2  {'Burglary': 'Binary', 'Earthquake': 'Binary',...   \n",
              "3  {'A': 'Multinomial', 'S': 'Binary', 'E': 'Bina...   \n",
              "\n",
              "                                          paper_link       position_in_paper  \n",
              "0  https://www.eecis.udel.edu/~shatkay/Course/pap...                  page 9  \n",
              "1  http://repo.darmajaya.ac.id/5277/1/Bayesian%20...  page 28, section 2.2.2  \n",
              "2  http://repo.darmajaya.ac.id/5277/1/Bayesian%20...  page 70, section 2.5.1  \n",
              "3  https://www.taylorfrancis.com/books/mono/10.12...    page 17, section 1.1  "
            ],
            "text/html": [
              "\n",
              "  <div id=\"df-c4d5ef42-d0bd-4920-8a50-5f00044b0337\" class=\"colab-df-container\">\n",
              "    <div>\n",
              "<style scoped>\n",
              "    .dataframe tbody tr th:only-of-type {\n",
              "        vertical-align: middle;\n",
              "    }\n",
              "\n",
              "    .dataframe tbody tr th {\n",
              "        vertical-align: top;\n",
              "    }\n",
              "\n",
              "    .dataframe thead th {\n",
              "        text-align: right;\n",
              "    }\n",
              "</style>\n",
              "<table border=\"1\" class=\"dataframe\">\n",
              "  <thead>\n",
              "    <tr style=\"text-align: right;\">\n",
              "      <th></th>\n",
              "      <th>nodes</th>\n",
              "      <th>edges</th>\n",
              "      <th>descr</th>\n",
              "      <th>node_distrs</th>\n",
              "      <th>paper_link</th>\n",
              "      <th>position_in_paper</th>\n",
              "    </tr>\n",
              "  </thead>\n",
              "  <tbody>\n",
              "    <tr>\n",
              "      <th>0</th>\n",
              "      <td>['asia', 'tub', 'smoke', 'lung', 'bronc', 'eit...</td>\n",
              "      <td>[('asia', 'tub'), ('tub', 'either'), ('smoke',...</td>\n",
              "      <td>Shortness-of-breath (dyspnoea) may be due to t...</td>\n",
              "      <td>{'asia': 'Binary', 'smoke': 'Binary', 'bronc':...</td>\n",
              "      <td>https://www.eecis.udel.edu/~shatkay/Course/pap...</td>\n",
              "      <td>page 9</td>\n",
              "    </tr>\n",
              "    <tr>\n",
              "      <th>1</th>\n",
              "      <td>['Pollution', 'Smoker', 'Cancer', 'Xray', 'Dys...</td>\n",
              "      <td>[('Pollution', 'Cancer'), ('Smoker', 'Cancer')...</td>\n",
              "      <td>So, in our medical diagnosis example, we might...</td>\n",
              "      <td>{'Pollution': 'Binary', 'Smoker': 'Binary', 'C...</td>\n",
              "      <td>http://repo.darmajaya.ac.id/5277/1/Bayesian%20...</td>\n",
              "      <td>page 28, section 2.2.2</td>\n",
              "    </tr>\n",
              "    <tr>\n",
              "      <th>2</th>\n",
              "      <td>['Burglary', 'Earthquake', 'Alarm', 'JohnCalls...</td>\n",
              "      <td>[('Burglary', 'Alarm'), ('Earthquake', 'Alarm'...</td>\n",
              "      <td>You have a new burglar alarm installed. It rel...</td>\n",
              "      <td>{'Burglary': 'Binary', 'Earthquake': 'Binary',...</td>\n",
              "      <td>http://repo.darmajaya.ac.id/5277/1/Bayesian%20...</td>\n",
              "      <td>page 70, section 2.5.1</td>\n",
              "    </tr>\n",
              "    <tr>\n",
              "      <th>3</th>\n",
              "      <td>['A', 'S', 'E', 'O', 'R', 'T']</td>\n",
              "      <td>[('A', 'E'), ('S', 'E'), ('E', 'O'), ('E', 'R'...</td>\n",
              "      <td>\\nIn our current example we will examine, for ...</td>\n",
              "      <td>{'A': 'Multinomial', 'S': 'Binary', 'E': 'Bina...</td>\n",
              "      <td>https://www.taylorfrancis.com/books/mono/10.12...</td>\n",
              "      <td>page 17, section 1.1</td>\n",
              "    </tr>\n",
              "  </tbody>\n",
              "</table>\n",
              "</div>\n",
              "    <div class=\"colab-df-buttons\">\n",
              "\n",
              "  <div class=\"colab-df-container\">\n",
              "    <button class=\"colab-df-convert\" onclick=\"convertToInteractive('df-c4d5ef42-d0bd-4920-8a50-5f00044b0337')\"\n",
              "            title=\"Convert this dataframe to an interactive table.\"\n",
              "            style=\"display:none;\">\n",
              "\n",
              "  <svg xmlns=\"http://www.w3.org/2000/svg\" height=\"24px\" viewBox=\"0 -960 960 960\">\n",
              "    <path d=\"M120-120v-720h720v720H120Zm60-500h600v-160H180v160Zm220 220h160v-160H400v160Zm0 220h160v-160H400v160ZM180-400h160v-160H180v160Zm440 0h160v-160H620v160ZM180-180h160v-160H180v160Zm440 0h160v-160H620v160Z\"/>\n",
              "  </svg>\n",
              "    </button>\n",
              "\n",
              "  <style>\n",
              "    .colab-df-container {\n",
              "      display:flex;\n",
              "      gap: 12px;\n",
              "    }\n",
              "\n",
              "    .colab-df-convert {\n",
              "      background-color: #E8F0FE;\n",
              "      border: none;\n",
              "      border-radius: 50%;\n",
              "      cursor: pointer;\n",
              "      display: none;\n",
              "      fill: #1967D2;\n",
              "      height: 32px;\n",
              "      padding: 0 0 0 0;\n",
              "      width: 32px;\n",
              "    }\n",
              "\n",
              "    .colab-df-convert:hover {\n",
              "      background-color: #E2EBFA;\n",
              "      box-shadow: 0px 1px 2px rgba(60, 64, 67, 0.3), 0px 1px 3px 1px rgba(60, 64, 67, 0.15);\n",
              "      fill: #174EA6;\n",
              "    }\n",
              "\n",
              "    .colab-df-buttons div {\n",
              "      margin-bottom: 4px;\n",
              "    }\n",
              "\n",
              "    [theme=dark] .colab-df-convert {\n",
              "      background-color: #3B4455;\n",
              "      fill: #D2E3FC;\n",
              "    }\n",
              "\n",
              "    [theme=dark] .colab-df-convert:hover {\n",
              "      background-color: #434B5C;\n",
              "      box-shadow: 0px 1px 3px 1px rgba(0, 0, 0, 0.15);\n",
              "      filter: drop-shadow(0px 1px 2px rgba(0, 0, 0, 0.3));\n",
              "      fill: #FFFFFF;\n",
              "    }\n",
              "  </style>\n",
              "\n",
              "    <script>\n",
              "      const buttonEl =\n",
              "        document.querySelector('#df-c4d5ef42-d0bd-4920-8a50-5f00044b0337 button.colab-df-convert');\n",
              "      buttonEl.style.display =\n",
              "        google.colab.kernel.accessAllowed ? 'block' : 'none';\n",
              "\n",
              "      async function convertToInteractive(key) {\n",
              "        const element = document.querySelector('#df-c4d5ef42-d0bd-4920-8a50-5f00044b0337');\n",
              "        const dataTable =\n",
              "          await google.colab.kernel.invokeFunction('convertToInteractive',\n",
              "                                                    [key], {});\n",
              "        if (!dataTable) return;\n",
              "\n",
              "        const docLinkHtml = 'Like what you see? Visit the ' +\n",
              "          '<a target=\"_blank\" href=https://colab.research.google.com/notebooks/data_table.ipynb>data table notebook</a>'\n",
              "          + ' to learn more about interactive tables.';\n",
              "        element.innerHTML = '';\n",
              "        dataTable['output_type'] = 'display_data';\n",
              "        await google.colab.output.renderOutput(dataTable, element);\n",
              "        const docLink = document.createElement('div');\n",
              "        docLink.innerHTML = docLinkHtml;\n",
              "        element.appendChild(docLink);\n",
              "      }\n",
              "    </script>\n",
              "  </div>\n",
              "\n",
              "\n",
              "<div id=\"df-f48ac1ca-13dd-442e-aa38-0baea2e2f8a5\">\n",
              "  <button class=\"colab-df-quickchart\" onclick=\"quickchart('df-f48ac1ca-13dd-442e-aa38-0baea2e2f8a5')\"\n",
              "            title=\"Suggest charts\"\n",
              "            style=\"display:none;\">\n",
              "\n",
              "<svg xmlns=\"http://www.w3.org/2000/svg\" height=\"24px\"viewBox=\"0 0 24 24\"\n",
              "     width=\"24px\">\n",
              "    <g>\n",
              "        <path d=\"M19 3H5c-1.1 0-2 .9-2 2v14c0 1.1.9 2 2 2h14c1.1 0 2-.9 2-2V5c0-1.1-.9-2-2-2zM9 17H7v-7h2v7zm4 0h-2V7h2v10zm4 0h-2v-4h2v4z\"/>\n",
              "    </g>\n",
              "</svg>\n",
              "  </button>\n",
              "\n",
              "<style>\n",
              "  .colab-df-quickchart {\n",
              "      --bg-color: #E8F0FE;\n",
              "      --fill-color: #1967D2;\n",
              "      --hover-bg-color: #E2EBFA;\n",
              "      --hover-fill-color: #174EA6;\n",
              "      --disabled-fill-color: #AAA;\n",
              "      --disabled-bg-color: #DDD;\n",
              "  }\n",
              "\n",
              "  [theme=dark] .colab-df-quickchart {\n",
              "      --bg-color: #3B4455;\n",
              "      --fill-color: #D2E3FC;\n",
              "      --hover-bg-color: #434B5C;\n",
              "      --hover-fill-color: #FFFFFF;\n",
              "      --disabled-bg-color: #3B4455;\n",
              "      --disabled-fill-color: #666;\n",
              "  }\n",
              "\n",
              "  .colab-df-quickchart {\n",
              "    background-color: var(--bg-color);\n",
              "    border: none;\n",
              "    border-radius: 50%;\n",
              "    cursor: pointer;\n",
              "    display: none;\n",
              "    fill: var(--fill-color);\n",
              "    height: 32px;\n",
              "    padding: 0;\n",
              "    width: 32px;\n",
              "  }\n",
              "\n",
              "  .colab-df-quickchart:hover {\n",
              "    background-color: var(--hover-bg-color);\n",
              "    box-shadow: 0 1px 2px rgba(60, 64, 67, 0.3), 0 1px 3px 1px rgba(60, 64, 67, 0.15);\n",
              "    fill: var(--button-hover-fill-color);\n",
              "  }\n",
              "\n",
              "  .colab-df-quickchart-complete:disabled,\n",
              "  .colab-df-quickchart-complete:disabled:hover {\n",
              "    background-color: var(--disabled-bg-color);\n",
              "    fill: var(--disabled-fill-color);\n",
              "    box-shadow: none;\n",
              "  }\n",
              "\n",
              "  .colab-df-spinner {\n",
              "    border: 2px solid var(--fill-color);\n",
              "    border-color: transparent;\n",
              "    border-bottom-color: var(--fill-color);\n",
              "    animation:\n",
              "      spin 1s steps(1) infinite;\n",
              "  }\n",
              "\n",
              "  @keyframes spin {\n",
              "    0% {\n",
              "      border-color: transparent;\n",
              "      border-bottom-color: var(--fill-color);\n",
              "      border-left-color: var(--fill-color);\n",
              "    }\n",
              "    20% {\n",
              "      border-color: transparent;\n",
              "      border-left-color: var(--fill-color);\n",
              "      border-top-color: var(--fill-color);\n",
              "    }\n",
              "    30% {\n",
              "      border-color: transparent;\n",
              "      border-left-color: var(--fill-color);\n",
              "      border-top-color: var(--fill-color);\n",
              "      border-right-color: var(--fill-color);\n",
              "    }\n",
              "    40% {\n",
              "      border-color: transparent;\n",
              "      border-right-color: var(--fill-color);\n",
              "      border-top-color: var(--fill-color);\n",
              "    }\n",
              "    60% {\n",
              "      border-color: transparent;\n",
              "      border-right-color: var(--fill-color);\n",
              "    }\n",
              "    80% {\n",
              "      border-color: transparent;\n",
              "      border-right-color: var(--fill-color);\n",
              "      border-bottom-color: var(--fill-color);\n",
              "    }\n",
              "    90% {\n",
              "      border-color: transparent;\n",
              "      border-bottom-color: var(--fill-color);\n",
              "    }\n",
              "  }\n",
              "</style>\n",
              "\n",
              "  <script>\n",
              "    async function quickchart(key) {\n",
              "      const quickchartButtonEl =\n",
              "        document.querySelector('#' + key + ' button');\n",
              "      quickchartButtonEl.disabled = true;  // To prevent multiple clicks.\n",
              "      quickchartButtonEl.classList.add('colab-df-spinner');\n",
              "      try {\n",
              "        const charts = await google.colab.kernel.invokeFunction(\n",
              "            'suggestCharts', [key], {});\n",
              "      } catch (error) {\n",
              "        console.error('Error during call to suggestCharts:', error);\n",
              "      }\n",
              "      quickchartButtonEl.classList.remove('colab-df-spinner');\n",
              "      quickchartButtonEl.classList.add('colab-df-quickchart-complete');\n",
              "    }\n",
              "    (() => {\n",
              "      let quickchartButtonEl =\n",
              "        document.querySelector('#df-f48ac1ca-13dd-442e-aa38-0baea2e2f8a5 button');\n",
              "      quickchartButtonEl.style.display =\n",
              "        google.colab.kernel.accessAllowed ? 'block' : 'none';\n",
              "    })();\n",
              "  </script>\n",
              "</div>\n",
              "    </div>\n",
              "  </div>\n"
            ],
            "application/vnd.google.colaboratory.intrinsic+json": {
              "type": "dataframe",
              "variable_name": "graphs_with_description",
              "summary": "{\n  \"name\": \"graphs_with_description\",\n  \"rows\": 4,\n  \"fields\": [\n    {\n      \"column\": \"nodes\",\n      \"properties\": {\n        \"dtype\": \"string\",\n        \"num_unique_values\": 4,\n        \"samples\": [\n          \"['Pollution', 'Smoker', 'Cancer', 'Xray', 'Dyspnoea']\",\n          \"['A', 'S', 'E', 'O', 'R', 'T']\",\n          \"['asia', 'tub', 'smoke', 'lung', 'bronc', 'either', 'xray', 'dysp']\"\n        ],\n        \"semantic_type\": \"\",\n        \"description\": \"\"\n      }\n    },\n    {\n      \"column\": \"edges\",\n      \"properties\": {\n        \"dtype\": \"string\",\n        \"num_unique_values\": 4,\n        \"samples\": [\n          \"[('Pollution', 'Cancer'), ('Smoker', 'Cancer'), ('Cancer', 'Xray'), ('Cancer', 'Dyspnoea')]\",\n          \"[('A', 'E'), ('S', 'E'), ('E', 'O'), ('E', 'R'), ('O', 'T'), ('R', 'T')]\",\n          \"[('asia', 'tub'), ('tub', 'either'), ('smoke', 'lung'), ('smoke', 'bronc'), ('lung', 'either'), ('bronc', 'dysp'), ('either', 'xray'), ('either', 'dysp')]\"\n        ],\n        \"semantic_type\": \"\",\n        \"description\": \"\"\n      }\n    },\n    {\n      \"column\": \"descr\",\n      \"properties\": {\n        \"dtype\": \"string\",\n        \"num_unique_values\": 4,\n        \"samples\": [\n          \"So, in our medical diagnosis example, we might ask what factors affect a patient\\u2019s chance of having cancer? If the answer is \\u201cPollution and smoking,\\u201d then we should add arcs from Pollution and Smoker to Cancer. Similarly, having cancer will affect the patient\\u2019s breathing and the chances of having a positive X-ray result. So we add arcs from Cancer to Dyspnoea and XRay.\",\n          \"\\nIn our current example we will examine, for each individual, the following six discrete variables (labels used in computations and figures are reported in parenthesis):\\n\\u2022 Age (A): the age, recorded as young (young) for individuals below 30 years old, adult (adult) for individuals between 30 and 60 years old, and old (old) for people older than 60.\\n\\u2022 Sex (S): the biological sex, recorded as male (M) or female (F).\\n\\u2022 Education (E): the highest level of education or training successfully completed, recorded as up to high school (high) or university degree (uni).\\n\\u2022 Occupation (O): whether the individual is an employee (emp) or a selfemployed (self) worker.\\n\\u2022 Residence (R): the size of the city the individual lives in, recorded as either small (small) or big (big).\\n\\u2022 Travel (T): the means of transport favoured by the individual, recorded either as car (car), train (train) or other (other).\\n\",\n          \"Shortness-of-breath (dyspnoea) may be due to tuberculosis, lung cancer or bronchitis, or none of them, or more than one of them. A recent visit to Asia increases the chances of tuberculosis, while smoking is known to be a risk factor for both lung cancer and bronchitis. The results of a single chest X-ray do not discriminate between lung cancer and tuberculosis, as neither does the presence or absence of dyspnoea.\"\n        ],\n        \"semantic_type\": \"\",\n        \"description\": \"\"\n      }\n    },\n    {\n      \"column\": \"node_distrs\",\n      \"properties\": {\n        \"dtype\": \"string\",\n        \"num_unique_values\": 4,\n        \"samples\": [\n          \"{'Pollution': 'Binary', 'Smoker': 'Binary', 'Cancer': 'Binary', 'Dyspnoea': 'Binary', 'Xray': 'Binary'}\",\n          \"{'A': 'Multinomial', 'S': 'Binary', 'E': 'Binary', 'O': 'Binary', 'R': 'Binary', 'T': 'Multinomial'}\",\n          \"{'asia': 'Binary', 'smoke': 'Binary', 'bronc': 'Binary', 'either': 'Binary', 'dysp': 'Binary', 'lung': 'Binary', 'tub': 'Binary', 'xray': 'Binary'}\"\n        ],\n        \"semantic_type\": \"\",\n        \"description\": \"\"\n      }\n    },\n    {\n      \"column\": \"paper_link\",\n      \"properties\": {\n        \"dtype\": \"string\",\n        \"num_unique_values\": 3,\n        \"samples\": [\n          \"https://www.eecis.udel.edu/~shatkay/Course/papers/Lauritzen1988.pdf\",\n          \"http://repo.darmajaya.ac.id/5277/1/Bayesian%20Artificial%20Intelligence%2C%20Second%20Edition%20%28%20PDFDrive%20%29.pdf\",\n          \"https://www.taylorfrancis.com/books/mono/10.1201/9780429347436/bayesian-networks-marco-scutari-jean-baptiste-denis\"\n        ],\n        \"semantic_type\": \"\",\n        \"description\": \"\"\n      }\n    },\n    {\n      \"column\": \"position_in_paper\",\n      \"properties\": {\n        \"dtype\": \"string\",\n        \"num_unique_values\": 4,\n        \"samples\": [\n          \"page 28, section 2.2.2\",\n          \"page 17, section 1.1\",\n          \"page 9\"\n        ],\n        \"semantic_type\": \"\",\n        \"description\": \"\"\n      }\n    }\n  ]\n}"
            }
          },
          "metadata": {},
          "execution_count": 30
        }
      ]
    },
    {
      "cell_type": "code",
      "source": [
        "graphs_with_description['extracted_nodes'] = graphs_with_description['descr'].apply(lambda x: extract_nodes_gpt(x, client, gpt_model='gpt-4o', temperature=0))"
      ],
      "metadata": {
        "id": "TQj2SPAMTCB0"
      },
      "execution_count": 41,
      "outputs": []
    },
    {
      "cell_type": "code",
      "source": [
        "# gpt-4o-mini\n",
        "graphs_with_description[['nodes', 'extracted_nodes']]"
      ],
      "metadata": {
        "colab": {
          "base_uri": "https://localhost:8080/",
          "height": 227
        },
        "id": "oqOOyh-lUd3T",
        "outputId": "2c08419c-96eb-4aed-ff3e-59f14bc3085f"
      },
      "execution_count": 40,
      "outputs": [
        {
          "output_type": "execute_result",
          "data": {
            "text/plain": [
              "                                               nodes  \\\n",
              "0  ['asia', 'tub', 'smoke', 'lung', 'bronc', 'eit...   \n",
              "1  ['Pollution', 'Smoker', 'Cancer', 'Xray', 'Dys...   \n",
              "2  ['Burglary', 'Earthquake', 'Alarm', 'JohnCalls...   \n",
              "3                     ['A', 'S', 'E', 'O', 'R', 'T']   \n",
              "\n",
              "                                     extracted_nodes  \n",
              "0  [Shortness-of-breath, tuberculosis, lung cance...  \n",
              "1       [Pollution, Smoking, Cancer, Dyspnoea, XRay]  \n",
              "2  [Burglar Alarm, Burglary, Earthquakes, John, M...  \n",
              "3  [Age, Sex, Education, Occupation, Residence, T...  "
            ],
            "text/html": [
              "\n",
              "  <div id=\"df-4fe30ce1-f688-443f-a678-1bbc1884d218\" class=\"colab-df-container\">\n",
              "    <div>\n",
              "<style scoped>\n",
              "    .dataframe tbody tr th:only-of-type {\n",
              "        vertical-align: middle;\n",
              "    }\n",
              "\n",
              "    .dataframe tbody tr th {\n",
              "        vertical-align: top;\n",
              "    }\n",
              "\n",
              "    .dataframe thead th {\n",
              "        text-align: right;\n",
              "    }\n",
              "</style>\n",
              "<table border=\"1\" class=\"dataframe\">\n",
              "  <thead>\n",
              "    <tr style=\"text-align: right;\">\n",
              "      <th></th>\n",
              "      <th>nodes</th>\n",
              "      <th>extracted_nodes</th>\n",
              "    </tr>\n",
              "  </thead>\n",
              "  <tbody>\n",
              "    <tr>\n",
              "      <th>0</th>\n",
              "      <td>['asia', 'tub', 'smoke', 'lung', 'bronc', 'eit...</td>\n",
              "      <td>[Shortness-of-breath, tuberculosis, lung cance...</td>\n",
              "    </tr>\n",
              "    <tr>\n",
              "      <th>1</th>\n",
              "      <td>['Pollution', 'Smoker', 'Cancer', 'Xray', 'Dys...</td>\n",
              "      <td>[Pollution, Smoking, Cancer, Dyspnoea, XRay]</td>\n",
              "    </tr>\n",
              "    <tr>\n",
              "      <th>2</th>\n",
              "      <td>['Burglary', 'Earthquake', 'Alarm', 'JohnCalls...</td>\n",
              "      <td>[Burglar Alarm, Burglary, Earthquakes, John, M...</td>\n",
              "    </tr>\n",
              "    <tr>\n",
              "      <th>3</th>\n",
              "      <td>['A', 'S', 'E', 'O', 'R', 'T']</td>\n",
              "      <td>[Age, Sex, Education, Occupation, Residence, T...</td>\n",
              "    </tr>\n",
              "  </tbody>\n",
              "</table>\n",
              "</div>\n",
              "    <div class=\"colab-df-buttons\">\n",
              "\n",
              "  <div class=\"colab-df-container\">\n",
              "    <button class=\"colab-df-convert\" onclick=\"convertToInteractive('df-4fe30ce1-f688-443f-a678-1bbc1884d218')\"\n",
              "            title=\"Convert this dataframe to an interactive table.\"\n",
              "            style=\"display:none;\">\n",
              "\n",
              "  <svg xmlns=\"http://www.w3.org/2000/svg\" height=\"24px\" viewBox=\"0 -960 960 960\">\n",
              "    <path d=\"M120-120v-720h720v720H120Zm60-500h600v-160H180v160Zm220 220h160v-160H400v160Zm0 220h160v-160H400v160ZM180-400h160v-160H180v160Zm440 0h160v-160H620v160ZM180-180h160v-160H180v160Zm440 0h160v-160H620v160Z\"/>\n",
              "  </svg>\n",
              "    </button>\n",
              "\n",
              "  <style>\n",
              "    .colab-df-container {\n",
              "      display:flex;\n",
              "      gap: 12px;\n",
              "    }\n",
              "\n",
              "    .colab-df-convert {\n",
              "      background-color: #E8F0FE;\n",
              "      border: none;\n",
              "      border-radius: 50%;\n",
              "      cursor: pointer;\n",
              "      display: none;\n",
              "      fill: #1967D2;\n",
              "      height: 32px;\n",
              "      padding: 0 0 0 0;\n",
              "      width: 32px;\n",
              "    }\n",
              "\n",
              "    .colab-df-convert:hover {\n",
              "      background-color: #E2EBFA;\n",
              "      box-shadow: 0px 1px 2px rgba(60, 64, 67, 0.3), 0px 1px 3px 1px rgba(60, 64, 67, 0.15);\n",
              "      fill: #174EA6;\n",
              "    }\n",
              "\n",
              "    .colab-df-buttons div {\n",
              "      margin-bottom: 4px;\n",
              "    }\n",
              "\n",
              "    [theme=dark] .colab-df-convert {\n",
              "      background-color: #3B4455;\n",
              "      fill: #D2E3FC;\n",
              "    }\n",
              "\n",
              "    [theme=dark] .colab-df-convert:hover {\n",
              "      background-color: #434B5C;\n",
              "      box-shadow: 0px 1px 3px 1px rgba(0, 0, 0, 0.15);\n",
              "      filter: drop-shadow(0px 1px 2px rgba(0, 0, 0, 0.3));\n",
              "      fill: #FFFFFF;\n",
              "    }\n",
              "  </style>\n",
              "\n",
              "    <script>\n",
              "      const buttonEl =\n",
              "        document.querySelector('#df-4fe30ce1-f688-443f-a678-1bbc1884d218 button.colab-df-convert');\n",
              "      buttonEl.style.display =\n",
              "        google.colab.kernel.accessAllowed ? 'block' : 'none';\n",
              "\n",
              "      async function convertToInteractive(key) {\n",
              "        const element = document.querySelector('#df-4fe30ce1-f688-443f-a678-1bbc1884d218');\n",
              "        const dataTable =\n",
              "          await google.colab.kernel.invokeFunction('convertToInteractive',\n",
              "                                                    [key], {});\n",
              "        if (!dataTable) return;\n",
              "\n",
              "        const docLinkHtml = 'Like what you see? Visit the ' +\n",
              "          '<a target=\"_blank\" href=https://colab.research.google.com/notebooks/data_table.ipynb>data table notebook</a>'\n",
              "          + ' to learn more about interactive tables.';\n",
              "        element.innerHTML = '';\n",
              "        dataTable['output_type'] = 'display_data';\n",
              "        await google.colab.output.renderOutput(dataTable, element);\n",
              "        const docLink = document.createElement('div');\n",
              "        docLink.innerHTML = docLinkHtml;\n",
              "        element.appendChild(docLink);\n",
              "      }\n",
              "    </script>\n",
              "  </div>\n",
              "\n",
              "\n",
              "<div id=\"df-aeb256a1-3a60-4b33-a713-8e6aa7ab49c5\">\n",
              "  <button class=\"colab-df-quickchart\" onclick=\"quickchart('df-aeb256a1-3a60-4b33-a713-8e6aa7ab49c5')\"\n",
              "            title=\"Suggest charts\"\n",
              "            style=\"display:none;\">\n",
              "\n",
              "<svg xmlns=\"http://www.w3.org/2000/svg\" height=\"24px\"viewBox=\"0 0 24 24\"\n",
              "     width=\"24px\">\n",
              "    <g>\n",
              "        <path d=\"M19 3H5c-1.1 0-2 .9-2 2v14c0 1.1.9 2 2 2h14c1.1 0 2-.9 2-2V5c0-1.1-.9-2-2-2zM9 17H7v-7h2v7zm4 0h-2V7h2v10zm4 0h-2v-4h2v4z\"/>\n",
              "    </g>\n",
              "</svg>\n",
              "  </button>\n",
              "\n",
              "<style>\n",
              "  .colab-df-quickchart {\n",
              "      --bg-color: #E8F0FE;\n",
              "      --fill-color: #1967D2;\n",
              "      --hover-bg-color: #E2EBFA;\n",
              "      --hover-fill-color: #174EA6;\n",
              "      --disabled-fill-color: #AAA;\n",
              "      --disabled-bg-color: #DDD;\n",
              "  }\n",
              "\n",
              "  [theme=dark] .colab-df-quickchart {\n",
              "      --bg-color: #3B4455;\n",
              "      --fill-color: #D2E3FC;\n",
              "      --hover-bg-color: #434B5C;\n",
              "      --hover-fill-color: #FFFFFF;\n",
              "      --disabled-bg-color: #3B4455;\n",
              "      --disabled-fill-color: #666;\n",
              "  }\n",
              "\n",
              "  .colab-df-quickchart {\n",
              "    background-color: var(--bg-color);\n",
              "    border: none;\n",
              "    border-radius: 50%;\n",
              "    cursor: pointer;\n",
              "    display: none;\n",
              "    fill: var(--fill-color);\n",
              "    height: 32px;\n",
              "    padding: 0;\n",
              "    width: 32px;\n",
              "  }\n",
              "\n",
              "  .colab-df-quickchart:hover {\n",
              "    background-color: var(--hover-bg-color);\n",
              "    box-shadow: 0 1px 2px rgba(60, 64, 67, 0.3), 0 1px 3px 1px rgba(60, 64, 67, 0.15);\n",
              "    fill: var(--button-hover-fill-color);\n",
              "  }\n",
              "\n",
              "  .colab-df-quickchart-complete:disabled,\n",
              "  .colab-df-quickchart-complete:disabled:hover {\n",
              "    background-color: var(--disabled-bg-color);\n",
              "    fill: var(--disabled-fill-color);\n",
              "    box-shadow: none;\n",
              "  }\n",
              "\n",
              "  .colab-df-spinner {\n",
              "    border: 2px solid var(--fill-color);\n",
              "    border-color: transparent;\n",
              "    border-bottom-color: var(--fill-color);\n",
              "    animation:\n",
              "      spin 1s steps(1) infinite;\n",
              "  }\n",
              "\n",
              "  @keyframes spin {\n",
              "    0% {\n",
              "      border-color: transparent;\n",
              "      border-bottom-color: var(--fill-color);\n",
              "      border-left-color: var(--fill-color);\n",
              "    }\n",
              "    20% {\n",
              "      border-color: transparent;\n",
              "      border-left-color: var(--fill-color);\n",
              "      border-top-color: var(--fill-color);\n",
              "    }\n",
              "    30% {\n",
              "      border-color: transparent;\n",
              "      border-left-color: var(--fill-color);\n",
              "      border-top-color: var(--fill-color);\n",
              "      border-right-color: var(--fill-color);\n",
              "    }\n",
              "    40% {\n",
              "      border-color: transparent;\n",
              "      border-right-color: var(--fill-color);\n",
              "      border-top-color: var(--fill-color);\n",
              "    }\n",
              "    60% {\n",
              "      border-color: transparent;\n",
              "      border-right-color: var(--fill-color);\n",
              "    }\n",
              "    80% {\n",
              "      border-color: transparent;\n",
              "      border-right-color: var(--fill-color);\n",
              "      border-bottom-color: var(--fill-color);\n",
              "    }\n",
              "    90% {\n",
              "      border-color: transparent;\n",
              "      border-bottom-color: var(--fill-color);\n",
              "    }\n",
              "  }\n",
              "</style>\n",
              "\n",
              "  <script>\n",
              "    async function quickchart(key) {\n",
              "      const quickchartButtonEl =\n",
              "        document.querySelector('#' + key + ' button');\n",
              "      quickchartButtonEl.disabled = true;  // To prevent multiple clicks.\n",
              "      quickchartButtonEl.classList.add('colab-df-spinner');\n",
              "      try {\n",
              "        const charts = await google.colab.kernel.invokeFunction(\n",
              "            'suggestCharts', [key], {});\n",
              "      } catch (error) {\n",
              "        console.error('Error during call to suggestCharts:', error);\n",
              "      }\n",
              "      quickchartButtonEl.classList.remove('colab-df-spinner');\n",
              "      quickchartButtonEl.classList.add('colab-df-quickchart-complete');\n",
              "    }\n",
              "    (() => {\n",
              "      let quickchartButtonEl =\n",
              "        document.querySelector('#df-aeb256a1-3a60-4b33-a713-8e6aa7ab49c5 button');\n",
              "      quickchartButtonEl.style.display =\n",
              "        google.colab.kernel.accessAllowed ? 'block' : 'none';\n",
              "    })();\n",
              "  </script>\n",
              "</div>\n",
              "    </div>\n",
              "  </div>\n"
            ],
            "application/vnd.google.colaboratory.intrinsic+json": {
              "type": "dataframe",
              "summary": "{\n  \"name\": \"graphs_with_description[['nodes', 'extracted_nodes']]\",\n  \"rows\": 4,\n  \"fields\": [\n    {\n      \"column\": \"nodes\",\n      \"properties\": {\n        \"dtype\": \"string\",\n        \"num_unique_values\": 4,\n        \"samples\": [\n          \"['Pollution', 'Smoker', 'Cancer', 'Xray', 'Dyspnoea']\",\n          \"['A', 'S', 'E', 'O', 'R', 'T']\",\n          \"['asia', 'tub', 'smoke', 'lung', 'bronc', 'either', 'xray', 'dysp']\"\n        ],\n        \"semantic_type\": \"\",\n        \"description\": \"\"\n      }\n    },\n    {\n      \"column\": \"extracted_nodes\",\n      \"properties\": {\n        \"dtype\": \"object\",\n        \"semantic_type\": \"\",\n        \"description\": \"\"\n      }\n    }\n  ]\n}"
            }
          },
          "metadata": {},
          "execution_count": 40
        }
      ]
    },
    {
      "cell_type": "code",
      "source": [
        "# gpt-4o\n",
        "graphs_with_description[['nodes', 'extracted_nodes']]"
      ],
      "metadata": {
        "colab": {
          "base_uri": "https://localhost:8080/",
          "height": 227
        },
        "id": "5GMHZtJmUiS3",
        "outputId": "888bd8b4-29cd-4825-8748-4bf9aee59cee"
      },
      "execution_count": 42,
      "outputs": [
        {
          "output_type": "execute_result",
          "data": {
            "text/plain": [
              "                                               nodes  \\\n",
              "0  ['asia', 'tub', 'smoke', 'lung', 'bronc', 'eit...   \n",
              "1  ['Pollution', 'Smoker', 'Cancer', 'Xray', 'Dys...   \n",
              "2  ['Burglary', 'Earthquake', 'Alarm', 'JohnCalls...   \n",
              "3                     ['A', 'S', 'E', 'O', 'R', 'T']   \n",
              "\n",
              "                                     extracted_nodes  \n",
              "0  [Shortness-of-breath, Tuberculosis, Lung Cance...  \n",
              "1        [Pollution, Smoker, Cancer, Dyspnoea, XRay]  \n",
              "2  [Burglar Alarm, Burglary, Earthquake, John Cal...  \n",
              "3  [Age, Sex, Education, Occupation, Residence, T...  "
            ],
            "text/html": [
              "\n",
              "  <div id=\"df-2091c906-57df-4a3b-bed8-bd45e5cc7120\" class=\"colab-df-container\">\n",
              "    <div>\n",
              "<style scoped>\n",
              "    .dataframe tbody tr th:only-of-type {\n",
              "        vertical-align: middle;\n",
              "    }\n",
              "\n",
              "    .dataframe tbody tr th {\n",
              "        vertical-align: top;\n",
              "    }\n",
              "\n",
              "    .dataframe thead th {\n",
              "        text-align: right;\n",
              "    }\n",
              "</style>\n",
              "<table border=\"1\" class=\"dataframe\">\n",
              "  <thead>\n",
              "    <tr style=\"text-align: right;\">\n",
              "      <th></th>\n",
              "      <th>nodes</th>\n",
              "      <th>extracted_nodes</th>\n",
              "    </tr>\n",
              "  </thead>\n",
              "  <tbody>\n",
              "    <tr>\n",
              "      <th>0</th>\n",
              "      <td>['asia', 'tub', 'smoke', 'lung', 'bronc', 'eit...</td>\n",
              "      <td>[Shortness-of-breath, Tuberculosis, Lung Cance...</td>\n",
              "    </tr>\n",
              "    <tr>\n",
              "      <th>1</th>\n",
              "      <td>['Pollution', 'Smoker', 'Cancer', 'Xray', 'Dys...</td>\n",
              "      <td>[Pollution, Smoker, Cancer, Dyspnoea, XRay]</td>\n",
              "    </tr>\n",
              "    <tr>\n",
              "      <th>2</th>\n",
              "      <td>['Burglary', 'Earthquake', 'Alarm', 'JohnCalls...</td>\n",
              "      <td>[Burglar Alarm, Burglary, Earthquake, John Cal...</td>\n",
              "    </tr>\n",
              "    <tr>\n",
              "      <th>3</th>\n",
              "      <td>['A', 'S', 'E', 'O', 'R', 'T']</td>\n",
              "      <td>[Age, Sex, Education, Occupation, Residence, T...</td>\n",
              "    </tr>\n",
              "  </tbody>\n",
              "</table>\n",
              "</div>\n",
              "    <div class=\"colab-df-buttons\">\n",
              "\n",
              "  <div class=\"colab-df-container\">\n",
              "    <button class=\"colab-df-convert\" onclick=\"convertToInteractive('df-2091c906-57df-4a3b-bed8-bd45e5cc7120')\"\n",
              "            title=\"Convert this dataframe to an interactive table.\"\n",
              "            style=\"display:none;\">\n",
              "\n",
              "  <svg xmlns=\"http://www.w3.org/2000/svg\" height=\"24px\" viewBox=\"0 -960 960 960\">\n",
              "    <path d=\"M120-120v-720h720v720H120Zm60-500h600v-160H180v160Zm220 220h160v-160H400v160Zm0 220h160v-160H400v160ZM180-400h160v-160H180v160Zm440 0h160v-160H620v160ZM180-180h160v-160H180v160Zm440 0h160v-160H620v160Z\"/>\n",
              "  </svg>\n",
              "    </button>\n",
              "\n",
              "  <style>\n",
              "    .colab-df-container {\n",
              "      display:flex;\n",
              "      gap: 12px;\n",
              "    }\n",
              "\n",
              "    .colab-df-convert {\n",
              "      background-color: #E8F0FE;\n",
              "      border: none;\n",
              "      border-radius: 50%;\n",
              "      cursor: pointer;\n",
              "      display: none;\n",
              "      fill: #1967D2;\n",
              "      height: 32px;\n",
              "      padding: 0 0 0 0;\n",
              "      width: 32px;\n",
              "    }\n",
              "\n",
              "    .colab-df-convert:hover {\n",
              "      background-color: #E2EBFA;\n",
              "      box-shadow: 0px 1px 2px rgba(60, 64, 67, 0.3), 0px 1px 3px 1px rgba(60, 64, 67, 0.15);\n",
              "      fill: #174EA6;\n",
              "    }\n",
              "\n",
              "    .colab-df-buttons div {\n",
              "      margin-bottom: 4px;\n",
              "    }\n",
              "\n",
              "    [theme=dark] .colab-df-convert {\n",
              "      background-color: #3B4455;\n",
              "      fill: #D2E3FC;\n",
              "    }\n",
              "\n",
              "    [theme=dark] .colab-df-convert:hover {\n",
              "      background-color: #434B5C;\n",
              "      box-shadow: 0px 1px 3px 1px rgba(0, 0, 0, 0.15);\n",
              "      filter: drop-shadow(0px 1px 2px rgba(0, 0, 0, 0.3));\n",
              "      fill: #FFFFFF;\n",
              "    }\n",
              "  </style>\n",
              "\n",
              "    <script>\n",
              "      const buttonEl =\n",
              "        document.querySelector('#df-2091c906-57df-4a3b-bed8-bd45e5cc7120 button.colab-df-convert');\n",
              "      buttonEl.style.display =\n",
              "        google.colab.kernel.accessAllowed ? 'block' : 'none';\n",
              "\n",
              "      async function convertToInteractive(key) {\n",
              "        const element = document.querySelector('#df-2091c906-57df-4a3b-bed8-bd45e5cc7120');\n",
              "        const dataTable =\n",
              "          await google.colab.kernel.invokeFunction('convertToInteractive',\n",
              "                                                    [key], {});\n",
              "        if (!dataTable) return;\n",
              "\n",
              "        const docLinkHtml = 'Like what you see? Visit the ' +\n",
              "          '<a target=\"_blank\" href=https://colab.research.google.com/notebooks/data_table.ipynb>data table notebook</a>'\n",
              "          + ' to learn more about interactive tables.';\n",
              "        element.innerHTML = '';\n",
              "        dataTable['output_type'] = 'display_data';\n",
              "        await google.colab.output.renderOutput(dataTable, element);\n",
              "        const docLink = document.createElement('div');\n",
              "        docLink.innerHTML = docLinkHtml;\n",
              "        element.appendChild(docLink);\n",
              "      }\n",
              "    </script>\n",
              "  </div>\n",
              "\n",
              "\n",
              "<div id=\"df-b1a6a7a7-dfe7-42a5-b814-4107fb8da13e\">\n",
              "  <button class=\"colab-df-quickchart\" onclick=\"quickchart('df-b1a6a7a7-dfe7-42a5-b814-4107fb8da13e')\"\n",
              "            title=\"Suggest charts\"\n",
              "            style=\"display:none;\">\n",
              "\n",
              "<svg xmlns=\"http://www.w3.org/2000/svg\" height=\"24px\"viewBox=\"0 0 24 24\"\n",
              "     width=\"24px\">\n",
              "    <g>\n",
              "        <path d=\"M19 3H5c-1.1 0-2 .9-2 2v14c0 1.1.9 2 2 2h14c1.1 0 2-.9 2-2V5c0-1.1-.9-2-2-2zM9 17H7v-7h2v7zm4 0h-2V7h2v10zm4 0h-2v-4h2v4z\"/>\n",
              "    </g>\n",
              "</svg>\n",
              "  </button>\n",
              "\n",
              "<style>\n",
              "  .colab-df-quickchart {\n",
              "      --bg-color: #E8F0FE;\n",
              "      --fill-color: #1967D2;\n",
              "      --hover-bg-color: #E2EBFA;\n",
              "      --hover-fill-color: #174EA6;\n",
              "      --disabled-fill-color: #AAA;\n",
              "      --disabled-bg-color: #DDD;\n",
              "  }\n",
              "\n",
              "  [theme=dark] .colab-df-quickchart {\n",
              "      --bg-color: #3B4455;\n",
              "      --fill-color: #D2E3FC;\n",
              "      --hover-bg-color: #434B5C;\n",
              "      --hover-fill-color: #FFFFFF;\n",
              "      --disabled-bg-color: #3B4455;\n",
              "      --disabled-fill-color: #666;\n",
              "  }\n",
              "\n",
              "  .colab-df-quickchart {\n",
              "    background-color: var(--bg-color);\n",
              "    border: none;\n",
              "    border-radius: 50%;\n",
              "    cursor: pointer;\n",
              "    display: none;\n",
              "    fill: var(--fill-color);\n",
              "    height: 32px;\n",
              "    padding: 0;\n",
              "    width: 32px;\n",
              "  }\n",
              "\n",
              "  .colab-df-quickchart:hover {\n",
              "    background-color: var(--hover-bg-color);\n",
              "    box-shadow: 0 1px 2px rgba(60, 64, 67, 0.3), 0 1px 3px 1px rgba(60, 64, 67, 0.15);\n",
              "    fill: var(--button-hover-fill-color);\n",
              "  }\n",
              "\n",
              "  .colab-df-quickchart-complete:disabled,\n",
              "  .colab-df-quickchart-complete:disabled:hover {\n",
              "    background-color: var(--disabled-bg-color);\n",
              "    fill: var(--disabled-fill-color);\n",
              "    box-shadow: none;\n",
              "  }\n",
              "\n",
              "  .colab-df-spinner {\n",
              "    border: 2px solid var(--fill-color);\n",
              "    border-color: transparent;\n",
              "    border-bottom-color: var(--fill-color);\n",
              "    animation:\n",
              "      spin 1s steps(1) infinite;\n",
              "  }\n",
              "\n",
              "  @keyframes spin {\n",
              "    0% {\n",
              "      border-color: transparent;\n",
              "      border-bottom-color: var(--fill-color);\n",
              "      border-left-color: var(--fill-color);\n",
              "    }\n",
              "    20% {\n",
              "      border-color: transparent;\n",
              "      border-left-color: var(--fill-color);\n",
              "      border-top-color: var(--fill-color);\n",
              "    }\n",
              "    30% {\n",
              "      border-color: transparent;\n",
              "      border-left-color: var(--fill-color);\n",
              "      border-top-color: var(--fill-color);\n",
              "      border-right-color: var(--fill-color);\n",
              "    }\n",
              "    40% {\n",
              "      border-color: transparent;\n",
              "      border-right-color: var(--fill-color);\n",
              "      border-top-color: var(--fill-color);\n",
              "    }\n",
              "    60% {\n",
              "      border-color: transparent;\n",
              "      border-right-color: var(--fill-color);\n",
              "    }\n",
              "    80% {\n",
              "      border-color: transparent;\n",
              "      border-right-color: var(--fill-color);\n",
              "      border-bottom-color: var(--fill-color);\n",
              "    }\n",
              "    90% {\n",
              "      border-color: transparent;\n",
              "      border-bottom-color: var(--fill-color);\n",
              "    }\n",
              "  }\n",
              "</style>\n",
              "\n",
              "  <script>\n",
              "    async function quickchart(key) {\n",
              "      const quickchartButtonEl =\n",
              "        document.querySelector('#' + key + ' button');\n",
              "      quickchartButtonEl.disabled = true;  // To prevent multiple clicks.\n",
              "      quickchartButtonEl.classList.add('colab-df-spinner');\n",
              "      try {\n",
              "        const charts = await google.colab.kernel.invokeFunction(\n",
              "            'suggestCharts', [key], {});\n",
              "      } catch (error) {\n",
              "        console.error('Error during call to suggestCharts:', error);\n",
              "      }\n",
              "      quickchartButtonEl.classList.remove('colab-df-spinner');\n",
              "      quickchartButtonEl.classList.add('colab-df-quickchart-complete');\n",
              "    }\n",
              "    (() => {\n",
              "      let quickchartButtonEl =\n",
              "        document.querySelector('#df-b1a6a7a7-dfe7-42a5-b814-4107fb8da13e button');\n",
              "      quickchartButtonEl.style.display =\n",
              "        google.colab.kernel.accessAllowed ? 'block' : 'none';\n",
              "    })();\n",
              "  </script>\n",
              "</div>\n",
              "    </div>\n",
              "  </div>\n"
            ],
            "application/vnd.google.colaboratory.intrinsic+json": {
              "type": "dataframe",
              "summary": "{\n  \"name\": \"graphs_with_description[['nodes', 'extracted_nodes']]\",\n  \"rows\": 4,\n  \"fields\": [\n    {\n      \"column\": \"nodes\",\n      \"properties\": {\n        \"dtype\": \"string\",\n        \"num_unique_values\": 4,\n        \"samples\": [\n          \"['Pollution', 'Smoker', 'Cancer', 'Xray', 'Dyspnoea']\",\n          \"['A', 'S', 'E', 'O', 'R', 'T']\",\n          \"['asia', 'tub', 'smoke', 'lung', 'bronc', 'either', 'xray', 'dysp']\"\n        ],\n        \"semantic_type\": \"\",\n        \"description\": \"\"\n      }\n    },\n    {\n      \"column\": \"extracted_nodes\",\n      \"properties\": {\n        \"dtype\": \"object\",\n        \"semantic_type\": \"\",\n        \"description\": \"\"\n      }\n    }\n  ]\n}"
            }
          },
          "metadata": {},
          "execution_count": 42
        }
      ]
    },
    {
      "cell_type": "markdown",
      "source": [
        "#### Extract vertex dependencies\n",
        "\n",
        "На взод дается описание графа на естественном языке и две вершины. Нужно по описанию и именам 2 вершин сказать, есть ли между ними ребро И если есть --- то в какую сторону. O(n^2) без памяти.\n",
        "\n",
        "\n",
        "Работает не очень хорошо."
      ],
      "metadata": {
        "id": "Zj5q7Hu2VyQk"
      }
    },
    {
      "cell_type": "code",
      "source": [
        "from openai import OpenAI, AsyncOpenAI\n",
        "\n",
        "client = OpenAI(\n",
        "    base_url='https://api.proxyapi.ru/openai/v1',\n",
        "    api_key=userdata.get('proxyai_api_key'),\n",
        ")\n",
        "\n",
        "async_client = AsyncOpenAI(\n",
        "    base_url='https://api.proxyapi.ru/openai/v1',\n",
        "    api_key=userdata.get('proxyai_api_key'),\n",
        ")"
      ],
      "metadata": {
        "id": "qrzBkuJ_d_w4"
      },
      "execution_count": 80,
      "outputs": []
    },
    {
      "cell_type": "code",
      "source": [
        "from enum import Enum\n",
        "\n",
        "class ArrowEnum(str, Enum):\n",
        "    no = \"no arrow\"\n",
        "    forward = \"forward arrow\"\n",
        "    backward = \"backward arrow\"\n",
        "\n",
        "class ArrowType(BaseModel):\n",
        "    arrow_type: ArrowEnum"
      ],
      "metadata": {
        "id": "9B-rpkWEV2n-"
      },
      "execution_count": 69,
      "outputs": []
    },
    {
      "cell_type": "code",
      "source": [
        "def get_messages_for_edge_direction(descr: str, set_of_nodes: list[str], pair_of_nodes: tuple[str]) -> str:\n",
        "\n",
        "    node_extraction_sys_message = '''\n",
        "            ###ROLE###\n",
        "            You are Graphical model scientist.\n",
        "            You task is to extract information about DAG from text description.\n",
        "            The structure, or topology, of the network should capture qualitative relationships between variables. In particular, two nodes should be connected directly if one affects or causes the other, with the arc indicating the direction of the effect.\n",
        "            The presence of arrows or arcs seems to imply, at an intuitive level, that for each arc one variable should be interpreted as a cause and the other as an effect (e.g., A →E means that A causes E). This interpretation is called causal.\n",
        "\n",
        "            For every right answer I give you 5$.\n",
        "        '''\n",
        "\n",
        "    edge_extraction_str_template = f'''\n",
        "        ###TASK###\n",
        "        You are given a DAG description, a set of its nodes and pair of nodes.\n",
        "        You should infer from the description and you own knowledge the type of casuality between two given nodes:\n",
        "            - forward: the left may be the cause of the right\n",
        "            - backward: the right may be the cause of the left\n",
        "            - no: no direct casualities\n",
        "\n",
        "        ###OUTPUT FORMAT###\n",
        "        You output should be \"forward\", \"backward\" or \"no\".\n",
        "\n",
        "        ###\n",
        "\n",
        "        User:\n",
        "            #DESCRIPTION#: Imagine a garden where the growth of plants depends on several factors. The amount of Watering affects how well the plants grow. Sunlight is another crucial factor, as it provides energy for photosynthesis. Fertilizer also plays a role by supplying essential nutrients. Together, these factors influence Plant Growth. Additionally, Watering can impact the effectiveness of Fertilizer, as nutrients are better absorbed when the soil is moist.\n",
        "            #SET OF NODES#: [Watering, Sunlight, Fertilizer, Plant Growth]\n",
        "            #PAIR OF NODES#: (Sunlight, Plant Growth)\n",
        "\n",
        "        Assistant: forward\n",
        "\n",
        "        ###\n",
        "\n",
        "        User:\n",
        "            #DESCRIPTION#: Imagine a garden where the growth of plants depends on several factors. The amount of Watering affects how well the plants grow. Sunlight is another crucial factor, as it provides energy for photosynthesis. Fertilizer also plays a role by supplying essential nutrients. Together, these factors influence Plant Growth. Additionally, Watering can impact the effectiveness of Fertilizer, as nutrients are better absorbed when the soil is moist.\n",
        "            #SET OF NODES#: [Watering, Sunlight, Fertilizer, Plant Growth]\n",
        "            #PAIR OF NODES#: (Fertilizer, Watering)\n",
        "\n",
        "        Assistant: backward\n",
        "\n",
        "        ###\n",
        "\n",
        "        User:\n",
        "            #DESCRIPTION#: Imagine a garden where the growth of plants depends on several factors. The amount of Watering affects how well the plants grow. Sunlight is another crucial factor, as it provides energy for photosynthesis. Fertilizer also plays a role by supplying essential nutrients. Together, these factors influence Plant Growth. Additionally, Watering can impact the effectiveness of Fertilizer, as nutrients are better absorbed when the soil is moist.\n",
        "            #SET OF NODES#: [Watering, Sunlight, Fertilizer, Plant Growth]\n",
        "            #PAIR OF NODES#: (Sunlight, Fertilizer)\n",
        "\n",
        "        Assistant: no\n",
        "\n",
        "        ###\n",
        "\n",
        "        User:\n",
        "            #DESCRIPTION#: {descr}\n",
        "            #SET OF NODES#: {set_of_nodes}\n",
        "            #PAIR OF NODES#: {pair_of_nodes}\n",
        "\n",
        "        Assistant:\n",
        "    '''\n",
        "\n",
        "\n",
        "    messages = [\n",
        "        {\n",
        "            'role': 'system',\n",
        "            'content': node_extraction_sys_message\n",
        "        },\n",
        "        {\n",
        "            'role': 'user',\n",
        "            'content': edge_extraction_str_template\n",
        "        }\n",
        "    ]\n",
        "\n",
        "    return messages"
      ],
      "metadata": {
        "id": "DYy9RPrmXtxV"
      },
      "execution_count": 122,
      "outputs": []
    },
    {
      "cell_type": "code",
      "source": [
        "example = ''' '''"
      ],
      "metadata": {
        "id": "uH0WrYwaac5Y"
      },
      "execution_count": null,
      "outputs": []
    },
    {
      "cell_type": "code",
      "source": [
        "example_nodes = extract_nodes_gpt(example, client, gpt_model='gpt-4o-mini', temperature=0)"
      ],
      "metadata": {
        "id": "fGKVCMXwafKs"
      },
      "execution_count": 47,
      "outputs": []
    },
    {
      "cell_type": "code",
      "source": [
        "example_nodes"
      ],
      "metadata": {
        "colab": {
          "base_uri": "https://localhost:8080/"
        },
        "id": "sZSXbRdaaiLr",
        "outputId": "51ca0149-405d-4e2a-9fb6-081d089c94a2"
      },
      "execution_count": 48,
      "outputs": [
        {
          "output_type": "execute_result",
          "data": {
            "text/plain": [
              "['Time Spent Studying',\n",
              " 'Knowledge Acquisition',\n",
              " 'Teacher Quality',\n",
              " 'Classroom Environment',\n",
              " 'Learning Outcome']"
            ]
          },
          "metadata": {},
          "execution_count": 48
        }
      ]
    },
    {
      "cell_type": "code",
      "source": [
        "s = f\"[{', '.join(example_nodes)}]\""
      ],
      "metadata": {
        "id": "m5JajClIajst"
      },
      "execution_count": 52,
      "outputs": []
    },
    {
      "cell_type": "code",
      "source": [
        "s"
      ],
      "metadata": {
        "colab": {
          "base_uri": "https://localhost:8080/",
          "height": 36
        },
        "id": "bsg4vpz1alji",
        "outputId": "b71834b6-4b2b-4b8c-cf67-dde7002055dd"
      },
      "execution_count": 53,
      "outputs": [
        {
          "output_type": "execute_result",
          "data": {
            "text/plain": [
              "'Time Spent Studying, Knowledge Acquisition, Teacher Quality, Classroom Environment, Learning Outcome'"
            ],
            "application/vnd.google.colaboratory.intrinsic+json": {
              "type": "string"
            }
          },
          "metadata": {},
          "execution_count": 53
        }
      ]
    },
    {
      "cell_type": "code",
      "source": [
        "t = (\"a\", \"b\")\n",
        "s = f\"({', '.join(t)})\"\n",
        "print(s)"
      ],
      "metadata": {
        "colab": {
          "base_uri": "https://localhost:8080/"
        },
        "id": "fq2TMguSalrx",
        "outputId": "18d74f5d-c698-4597-93b4-0d1846a816f3"
      },
      "execution_count": 55,
      "outputs": [
        {
          "output_type": "stream",
          "name": "stdout",
          "text": [
            "(a, b)\n"
          ]
        }
      ]
    },
    {
      "cell_type": "code",
      "source": [],
      "metadata": {
        "id": "6ZM-IjNka12D"
      },
      "execution_count": null,
      "outputs": []
    },
    {
      "cell_type": "code",
      "source": [
        "edge_mess = get_messages_for_edge_direction(\n",
        "    example,\n",
        "    f\"[{', '.join(example_nodes)}]\",\n",
        "    f\"({', '.join(('Teacher Quality', 'Learning Outcome'))})\",\n",
        ")"
      ],
      "metadata": {
        "id": "5LoKvk5haOvJ"
      },
      "execution_count": 66,
      "outputs": []
    },
    {
      "cell_type": "code",
      "source": [
        "def extract_one_edge_gpt(descr, set_of_nodes, pair_of_nodes, gpt_client, gpt_model='gpt-4o-mini', temperature=0):\n",
        "    '''\n",
        "        returns either (None, None) or edge with identified direction\n",
        "    '''\n",
        "    completion = gpt_client.beta.chat.completions.parse(\n",
        "        model=gpt_model,\n",
        "        messages=get_messages_for_edge_direction(descr, f\"[{', '.join(set_of_nodes)}]\", f\"[{', '.join(pair_of_nodes)}]\"),\n",
        "        response_format=ArrowType,\n",
        "        temperature=temperature,\n",
        "    )\n",
        "    arrow_type = json.loads(completion.choices[0].message.content)['arrow_type']  # json.loads(completion.choices[0].message.content)['list_of_nodes']\n",
        "\n",
        "    if 'forward' in arrow_type.lower():\n",
        "        return pair_of_nodes\n",
        "    if 'backward' in arrow_type.lower():\n",
        "        return pair_of_nodes[::-1]\n",
        "    return (None, None)\n",
        "\n",
        "# AsyncOpenAI\n",
        "async def async_extract_one_edge_gpt(descr, set_of_nodes, pair_of_nodes, async_gpt_client, gpt_model='gpt-4o-mini', temperature=0):\n",
        "    '''\n",
        "        returns either (None, None) or edge with identified direction\n",
        "    '''\n",
        "    completion = await async_gpt_client.beta.chat.completions.parse(\n",
        "        model=gpt_model,\n",
        "        messages=get_messages_for_edge_direction(descr, f\"[{', '.join(set_of_nodes)}]\", f\"[{', '.join(pair_of_nodes)}]\"),\n",
        "        response_format=ArrowType,\n",
        "        temperature=temperature,\n",
        "    )\n",
        "    arrow_type = json.loads(completion.choices[0].message.content)['arrow_type']  # json.loads(completion.choices[0].message.content)['list_of_nodes']\n",
        "\n",
        "    if 'forward' in arrow_type.lower():\n",
        "        return pair_of_nodes\n",
        "    if 'backward' in arrow_type.lower():\n",
        "        return pair_of_nodes[::-1]\n",
        "    return (None, None)"
      ],
      "metadata": {
        "id": "eytdqc-9bQEo"
      },
      "execution_count": 81,
      "outputs": []
    },
    {
      "cell_type": "code",
      "source": [],
      "metadata": {
        "id": "oZaLSJw5d8l5"
      },
      "execution_count": null,
      "outputs": []
    },
    {
      "cell_type": "code",
      "source": [
        "extract_one_edge_gpt(example, example_nodes, ('Learning Outcome', 'Teacher Quality'), client, gpt_model='gpt-4o-mini', temperature=0)"
      ],
      "metadata": {
        "colab": {
          "base_uri": "https://localhost:8080/"
        },
        "id": "sVFDYlSSdII2",
        "outputId": "f18a7e0a-d93c-4698-af2e-4f377b774591"
      },
      "execution_count": 76,
      "outputs": [
        {
          "output_type": "execute_result",
          "data": {
            "text/plain": [
              "('Teacher Quality', 'Learning Outcome')"
            ]
          },
          "metadata": {},
          "execution_count": 76
        }
      ]
    },
    {
      "cell_type": "code",
      "source": [
        "extract_one_edge_gpt(example, example_nodes, ('Classroom Environment', 'Teacher Quality'), client, gpt_model='gpt-4o-mini', temperature=0)"
      ],
      "metadata": {
        "colab": {
          "base_uri": "https://localhost:8080/"
        },
        "id": "vML7cHHadR9n",
        "outputId": "09a1062a-a543-43d5-997f-0097a36017f7"
      },
      "execution_count": 78,
      "outputs": [
        {
          "output_type": "execute_result",
          "data": {
            "text/plain": [
              "(None, None)"
            ]
          },
          "metadata": {},
          "execution_count": 78
        }
      ]
    },
    {
      "cell_type": "code",
      "source": [
        "extract_one_edge_gpt(example, example_nodes, ('Classroom Environment', 'Knowledge Acquisition'), client, gpt_model='gpt-4o-mini', temperature=0)"
      ],
      "metadata": {
        "colab": {
          "base_uri": "https://localhost:8080/"
        },
        "id": "IU-Laq6AfeQv",
        "outputId": "f9737f09-fc61-4852-f46c-4f77423d9fb2"
      },
      "execution_count": 90,
      "outputs": [
        {
          "output_type": "execute_result",
          "data": {
            "text/plain": [
              "(None, None)"
            ]
          },
          "metadata": {},
          "execution_count": 90
        }
      ]
    },
    {
      "cell_type": "code",
      "source": [
        "await async_extract_one_edge_gpt(example, example_nodes, ('Classroom Environment', 'Teacher Quality'), async_client, gpt_model='gpt-4o-mini', temperature=0)"
      ],
      "metadata": {
        "colab": {
          "base_uri": "https://localhost:8080/"
        },
        "id": "nIerDpWEeMFz",
        "outputId": "4646ea36-01fe-46ee-a4a1-584ee01df2dd"
      },
      "execution_count": 82,
      "outputs": [
        {
          "output_type": "execute_result",
          "data": {
            "text/plain": [
              "(None, None)"
            ]
          },
          "metadata": {},
          "execution_count": 82
        }
      ]
    },
    {
      "cell_type": "code",
      "source": [
        "async def extract_all_edges(descr, set_of_nodes, async_gpt_client, gpt_model='gpt-4o-mini', temperature=0):\n",
        "    edge_list = []\n",
        "\n",
        "    for i, node_a in enumerate(set_of_nodes):\n",
        "        for node_b in set_of_nodes[i+1:]:\n",
        "            print(f\"{node_a} # {node_b}\")\n",
        "            edge = await async_extract_one_edge_gpt(descr, set_of_nodes, (node_a, node_b), async_gpt_client, gpt_model=gpt_model, temperature=temperature)\n",
        "            if edge[0] is not None:\n",
        "                edge_list.append(edge)\n",
        "\n",
        "    return edge_list"
      ],
      "metadata": {
        "id": "uDa-tOgxeRPs"
      },
      "execution_count": 125,
      "outputs": []
    },
    {
      "cell_type": "code",
      "source": [
        "example_edge_list = await extract_all_edges(example, example_nodes, async_client, gpt_model='gpt-4o-mini', temperature=0)\n",
        "print(example_edge_list)"
      ],
      "metadata": {
        "colab": {
          "base_uri": "https://localhost:8080/"
        },
        "id": "pPAUnqUaez9u",
        "outputId": "e93a03d2-4e26-4ed4-9ae7-5b4c06abfe74"
      },
      "execution_count": 89,
      "outputs": [
        {
          "output_type": "stream",
          "name": "stdout",
          "text": [
            "Time Spent Studying Knowledge Acquisition\n",
            "Time Spent Studying Teacher Quality\n",
            "Time Spent Studying Classroom Environment\n",
            "Time Spent Studying Learning Outcome\n",
            "Knowledge Acquisition Teacher Quality\n",
            "Knowledge Acquisition Classroom Environment\n",
            "Knowledge Acquisition Learning Outcome\n",
            "Teacher Quality Classroom Environment\n",
            "Teacher Quality Learning Outcome\n",
            "Classroom Environment Learning Outcome\n",
            "[('Time Spent Studying', 'Knowledge Acquisition'), ('Time Spent Studying', 'Learning Outcome'), ('Knowledge Acquisition', 'Learning Outcome')]\n"
          ]
        }
      ]
    },
    {
      "cell_type": "code",
      "source": [
        "example_edge_list = await extract_all_edges(example, example_nodes, async_client, gpt_model='gpt-4o', temperature=0)\n",
        "print(example_edge_list)"
      ],
      "metadata": {
        "colab": {
          "base_uri": "https://localhost:8080/"
        },
        "id": "pza1q6TreOlG",
        "outputId": "51adbe6b-c344-4695-9d7c-e34b9e2ba21b"
      },
      "execution_count": 91,
      "outputs": [
        {
          "output_type": "stream",
          "name": "stdout",
          "text": [
            "Time Spent Studying Knowledge Acquisition\n",
            "Time Spent Studying Teacher Quality\n",
            "Time Spent Studying Classroom Environment\n",
            "Time Spent Studying Learning Outcome\n",
            "Knowledge Acquisition Teacher Quality\n",
            "Knowledge Acquisition Classroom Environment\n",
            "Knowledge Acquisition Learning Outcome\n",
            "Teacher Quality Classroom Environment\n",
            "Teacher Quality Learning Outcome\n",
            "Classroom Environment Learning Outcome\n",
            "[('Time Spent Studying', 'Knowledge Acquisition'), ('Time Spent Studying', 'Learning Outcome'), ('Knowledge Acquisition', 'Learning Outcome')]\n"
          ]
        }
      ]
    },
    {
      "cell_type": "code",
      "source": [
        "graphs_with_description['descr'][0]"
      ],
      "metadata": {
        "colab": {
          "base_uri": "https://localhost:8080/",
          "height": 71
        },
        "id": "LHFSC-rmgVlL",
        "outputId": "f460291b-746d-43d5-8115-600c3e2003fc"
      },
      "execution_count": 98,
      "outputs": [
        {
          "output_type": "execute_result",
          "data": {
            "text/plain": [
              "'Shortness-of-breath (dyspnoea) may be due to tuberculosis, lung cancer or bronchitis, or none of them, or more than one of them. A recent visit to Asia increases the chances of tuberculosis, while smoking is known to be a risk factor for both lung cancer and bronchitis. The results of a single chest X-ray do not discriminate between lung cancer and tuberculosis, as neither does the presence or absence of dyspnoea.'"
            ],
            "application/vnd.google.colaboratory.intrinsic+json": {
              "type": "string"
            }
          },
          "metadata": {},
          "execution_count": 98
        }
      ]
    },
    {
      "cell_type": "code",
      "source": [
        "import re\n",
        "re.sub(\"\\'\", \"\", graphs_with_description['nodes'][0][1:-1]).split(', ')"
      ],
      "metadata": {
        "colab": {
          "base_uri": "https://localhost:8080/"
        },
        "id": "Id1H5pQNgXwf",
        "outputId": "0382ccf9-bf64-48f5-f991-ebf339c4059f"
      },
      "execution_count": 106,
      "outputs": [
        {
          "output_type": "execute_result",
          "data": {
            "text/plain": [
              "['asia', 'tub', 'smoke', 'lung', 'bronc', 'either', 'xray', 'dysp']"
            ]
          },
          "metadata": {},
          "execution_count": 106
        }
      ]
    },
    {
      "cell_type": "code",
      "source": [
        "graphs_with_description['edges'][0]"
      ],
      "metadata": {
        "colab": {
          "base_uri": "https://localhost:8080/",
          "height": 36
        },
        "id": "OpUgnTV5gcu4",
        "outputId": "0959546d-10e5-4603-8a4e-f2a048183c53"
      },
      "execution_count": 121,
      "outputs": [
        {
          "output_type": "execute_result",
          "data": {
            "text/plain": [
              "\"[('asia', 'tub'), ('tub', 'either'), ('smoke', 'lung'), ('smoke', 'bronc'), ('lung', 'either'), ('bronc', 'dysp'), ('either', 'xray'), ('either', 'dysp')]\""
            ],
            "application/vnd.google.colaboratory.intrinsic+json": {
              "type": "string"
            }
          },
          "metadata": {},
          "execution_count": 121
        }
      ]
    },
    {
      "cell_type": "code",
      "source": [
        "example_edge_list = await extract_all_edges(graphs_with_description['descr'][0],\n",
        "                                            re.sub(\"\\'\", \"\", graphs_with_description['nodes'][0][1:-1]).split(', '),\n",
        "                                            async_client,\n",
        "                                            gpt_model='gpt-4o-mini',\n",
        "                                            temperature=0)\n",
        "print(example_edge_list)"
      ],
      "metadata": {
        "colab": {
          "base_uri": "https://localhost:8080/"
        },
        "id": "ZOSLu45Kfhi9",
        "outputId": "09c0a825-4bac-455c-a725-7eb05b70fe27"
      },
      "execution_count": 118,
      "outputs": [
        {
          "output_type": "stream",
          "name": "stdout",
          "text": [
            "asia # tub\n",
            "asia # smoke\n",
            "asia # lung\n",
            "asia # bronc\n",
            "asia # either\n",
            "asia # xray\n",
            "asia # dysp\n",
            "tub # smoke\n",
            "tub # lung\n",
            "tub # bronc\n",
            "tub # either\n",
            "tub # xray\n",
            "tub # dysp\n",
            "smoke # lung\n",
            "smoke # bronc\n",
            "smoke # either\n",
            "smoke # xray\n",
            "smoke # dysp\n",
            "lung # bronc\n",
            "lung # either\n",
            "lung # xray\n",
            "lung # dysp\n",
            "bronc # either\n",
            "bronc # xray\n",
            "bronc # dysp\n",
            "either # xray\n",
            "either # dysp\n",
            "xray # dysp\n",
            "[('asia', 'tub'), ('asia', 'lung'), ('asia', 'either'), ('asia', 'dysp'), ('tub', 'either'), ('smoke', 'lung'), ('smoke', 'bronc'), ('smoke', 'dysp'), ('lung', 'dysp')]\n"
          ]
        }
      ]
    },
    {
      "cell_type": "code",
      "source": [
        "example_edge_list = await extract_all_edges(graphs_with_description['descr'][0],\n",
        "                                            graphs_with_description['extracted_nodes'][0],\n",
        "                                            async_client,\n",
        "                                            gpt_model='gpt-4o-mini',\n",
        "                                            temperature=0)\n",
        "print(example_edge_list)"
      ],
      "metadata": {
        "colab": {
          "base_uri": "https://localhost:8080/"
        },
        "id": "TMq3JD5qhXAX",
        "outputId": "b765517a-4b6e-49b0-b751-afecc102b609"
      },
      "execution_count": 123,
      "outputs": [
        {
          "output_type": "stream",
          "name": "stdout",
          "text": [
            "Shortness-of-breath # Tuberculosis\n",
            "Shortness-of-breath # Lung Cancer\n",
            "Shortness-of-breath # Bronchitis\n",
            "Shortness-of-breath # Visit to Asia\n",
            "Shortness-of-breath # Smoking\n",
            "Shortness-of-breath # Chest X-ray\n",
            "Tuberculosis # Lung Cancer\n",
            "Tuberculosis # Bronchitis\n",
            "Tuberculosis # Visit to Asia\n",
            "Tuberculosis # Smoking\n",
            "Tuberculosis # Chest X-ray\n",
            "Lung Cancer # Bronchitis\n",
            "Lung Cancer # Visit to Asia\n",
            "Lung Cancer # Smoking\n",
            "Lung Cancer # Chest X-ray\n",
            "Bronchitis # Visit to Asia\n",
            "Bronchitis # Smoking\n",
            "Bronchitis # Chest X-ray\n",
            "Visit to Asia # Smoking\n",
            "Visit to Asia # Chest X-ray\n",
            "Smoking # Chest X-ray\n",
            "[('Shortness-of-breath', 'Tuberculosis'), ('Shortness-of-breath', 'Lung Cancer'), ('Shortness-of-breath', 'Bronchitis'), ('Tuberculosis', 'Visit to Asia'), ('Bronchitis', 'Smoking')]\n"
          ]
        }
      ]
    },
    {
      "cell_type": "code",
      "source": [
        "example_edge_list = await extract_all_edges(graphs_with_description['descr'][0],\n",
        "                                            graphs_with_description['extracted_nodes'][0],\n",
        "                                            async_client,\n",
        "                                            gpt_model='gpt-4o',\n",
        "                                            temperature=0)\n",
        "print(example_edge_list)"
      ],
      "metadata": {
        "colab": {
          "base_uri": "https://localhost:8080/"
        },
        "id": "9T03q9xvhfAO",
        "outputId": "446a3986-0688-4194-d8a3-db4468a7a84a"
      },
      "execution_count": 126,
      "outputs": [
        {
          "output_type": "stream",
          "name": "stdout",
          "text": [
            "Shortness-of-breath # Tuberculosis\n",
            "Shortness-of-breath # Lung Cancer\n",
            "Shortness-of-breath # Bronchitis\n",
            "Shortness-of-breath # Visit to Asia\n",
            "Shortness-of-breath # Smoking\n",
            "Shortness-of-breath # Chest X-ray\n",
            "Tuberculosis # Lung Cancer\n",
            "Tuberculosis # Bronchitis\n",
            "Tuberculosis # Visit to Asia\n",
            "Tuberculosis # Smoking\n",
            "Tuberculosis # Chest X-ray\n",
            "Lung Cancer # Bronchitis\n",
            "Lung Cancer # Visit to Asia\n",
            "Lung Cancer # Smoking\n",
            "Lung Cancer # Chest X-ray\n",
            "Bronchitis # Visit to Asia\n",
            "Bronchitis # Smoking\n",
            "Bronchitis # Chest X-ray\n",
            "Visit to Asia # Smoking\n",
            "Visit to Asia # Chest X-ray\n",
            "Smoking # Chest X-ray\n",
            "[('Shortness-of-breath', 'Tuberculosis'), ('Shortness-of-breath', 'Lung Cancer'), ('Shortness-of-breath', 'Bronchitis'), ('Smoking', 'Shortness-of-breath'), ('Visit to Asia', 'Tuberculosis'), ('Smoking', 'Lung Cancer'), ('Smoking', 'Bronchitis')]\n"
          ]
        }
      ]
    },
    {
      "cell_type": "markdown",
      "source": [
        "Попробовать: сразу для ксех вершин сказать, какое направление ребер"
      ],
      "metadata": {
        "id": "PjOaNxAakQdK"
      }
    },
    {
      "cell_type": "code",
      "source": [],
      "metadata": {
        "id": "-zd9VBxhfsIQ"
      },
      "execution_count": null,
      "outputs": []
    },
    {
      "cell_type": "markdown",
      "source": [
        "#### Suggest vertex distributions (потом)\n",
        "\n",
        "По описанию и извлеченным вершинам должны выдаваться типы распределений:"
      ],
      "metadata": {
        "id": "OI53x1vEVZqs"
      }
    },
    {
      "cell_type": "code",
      "source": [
        "def get_messages_for_edge_direction(descr: str) -> str:\n",
        "\n",
        "    node_extraction_sys_message = '''\n",
        "            ###ROLE###\n",
        "            You are Graphical model scientist.\n",
        "            You task is to extract information about DAG from text description.\n",
        "            The structure, or topology, of the network should capture qualitative relationships between variables. In particular, two nodes should be connected directly if one affects or causes the other, with the arc indicating the direction of the effect.\n",
        "            The presence of arrows or arcs seems to imply, at an intuitive level, that for each arc one variable should be interpreted as a cause and the other as an effect (e.g., A →E means that A causes E). This interpretation is called causal.\n",
        "\n",
        "            For every right answer I give you 5$.\n",
        "        '''\n",
        "\n",
        "    node_extraction_str_template = f'''\n",
        "        ###TASK###\n",
        "        Extract all node names of GAD from the description, the user gaves you.\n",
        "\n",
        "        ###OUTPUT FORMAT###\n",
        "        You output should be list of strings\n",
        "\n",
        "        ###\n",
        "\n",
        "        User: Imagine a garden where the growth of plants depends on several factors. The amount of Watering affects how well the plants grow. Sunlight is another crucial factor, as it provides energy for photosynthesis. Fertilizer also plays a role by supplying essential nutrients. Together, these factors influence Plant Growth. Additionally, Watering can impact the effectiveness of Fertilizer, as nutrients are better absorbed when the soil is moist.\n",
        "        Assistant: ['Watering', 'Sunlight', 'Fertilizer', 'Plant Growth']\n",
        "\n",
        "        ###\n",
        "\n",
        "        User: {descr}\n",
        "        Assistant:\n",
        "    '''\n",
        "\n",
        "\n",
        "    messages = [\n",
        "        {\n",
        "            'role': 'system',\n",
        "            'content': node_extraction_sys_message\n",
        "        },\n",
        "        {\n",
        "            'role': 'user',\n",
        "            'content': node_extraction_str_template\n",
        "        }\n",
        "    ]\n",
        "\n",
        "    return messages\n"
      ],
      "metadata": {
        "id": "2t0W7JQjU9tU"
      },
      "execution_count": null,
      "outputs": []
    },
    {
      "cell_type": "code",
      "execution_count": null,
      "metadata": {
        "id": "RS0FNKjS0NJQ"
      },
      "outputs": [],
      "source": []
    },
    {
      "cell_type": "code",
      "execution_count": null,
      "metadata": {
        "id": "8dMe7mECyVtJ"
      },
      "outputs": [],
      "source": []
    }
  ],
  "metadata": {
    "colab": {
      "provenance": [],
      "collapsed_sections": [
        "kvo7WpxsxfE9"
      ]
    },
    "kernelspec": {
      "display_name": "Python 3",
      "name": "python3"
    },
    "language_info": {
      "name": "python"
    }
  },
  "nbformat": 4,
  "nbformat_minor": 0
}