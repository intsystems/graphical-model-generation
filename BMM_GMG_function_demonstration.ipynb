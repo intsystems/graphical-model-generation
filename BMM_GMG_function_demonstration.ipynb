{
 "cells": [
  {
   "cell_type": "markdown",
   "metadata": {
    "id": "7KVILfLf4LRj"
   },
   "source": [
    "# Graph extraction"
   ]
  },
  {
   "cell_type": "markdown",
   "metadata": {
    "id": "U3lg4Bza8UeA"
   },
   "source": [
    "#### Extract vertices example\n",
    "\n",
    "По описанию на естественном языке должны извлекаться вершины."
   ]
  },
  {
   "cell_type": "code",
   "execution_count": null,
   "metadata": {
    "collapsed": true,
    "id": "m1wADfU0YFYo"
   },
   "outputs": [],
   "source": [
    "# !git clone https://github.com/intsystems/graphical-model-generation.git -q\n",
    "# !cp /content/graphical-model-generation/code/*.py .\n",
    "%pip install openai langchain langchain_openai"
   ]
  },
  {
   "cell_type": "code",
   "execution_count": null,
   "metadata": {
    "id": "FHx6bJga8YCT"
   },
   "outputs": [],
   "source": [
    "import os\n",
    "# from google.colab import userdata\n",
    "from openai import OpenAI, AsyncOpenAI\n",
    "from langchain.schema import (\n",
    "    AIMessage,\n",
    "    HumanMessage,\n",
    "    SystemMessage\n",
    ")\n",
    "from langchain.prompts import PromptTemplate, HumanMessagePromptTemplate\n",
    "from openai import OpenAI, AsyncOpenAI\n",
    "from typing import List\n",
    "from pydantic import BaseModel\n",
    "import json\n",
    "import sys\n",
    "sys.path.insert(0, \"/home/ernest/Desktop/graphical-model-generation/code\")\n",
    "\n",
    "client = OpenAI(\n",
    "    base_url='https://api.proxyapi.ru/openai/v1',\n",
    "    api_key=\"sk-3IqehGd2A8iAldf9VgG2CgHyGQtO9qPH\",\n",
    ")\n",
    "\n",
    "async_client = AsyncOpenAI(\n",
    "    base_url='https://api.proxyapi.ru/openai/v1',\n",
    "    api_key=\"sk-3IqehGd2A8iAldf9VgG2CgHyGQtO9qPH\",\n",
    ")"
   ]
  },
  {
   "cell_type": "code",
   "execution_count": 71,
   "metadata": {},
   "outputs": [
    {
     "name": "stdout",
     "output_type": "stream",
     "text": [
      "The autoreload extension is already loaded. To reload it, use:\n",
      "  %reload_ext autoreload\n"
     ]
    }
   ],
   "source": [
    "%load_ext autoreload\n",
    "%autoreload 2"
   ]
  },
  {
   "cell_type": "code",
   "execution_count": 52,
   "metadata": {},
   "outputs": [],
   "source": [
    "from NLI_node_extraction import NodeExtractor"
   ]
  },
  {
   "cell_type": "code",
   "execution_count": 53,
   "metadata": {
    "id": "cEAaqNc6S3CO"
   },
   "outputs": [],
   "source": [
    "example = '''Think about a classroom where student learning is shaped by different factors. The amount of Time Spent Studying directly influences Knowledge Acquisition. Teacher Quality also affects how well students understand the material. Classroom Environment, such as noise levels and seating arrangements, can impact both Teacher Quality and Knowledge Acquisition. Altogether, these elements contribute to a student's overall Learning Outcome.'''.lower()"
   ]
  },
  {
   "cell_type": "code",
   "execution_count": 54,
   "metadata": {},
   "outputs": [
    {
     "name": "stdout",
     "output_type": "stream",
     "text": [
      "Extracted nodex: ['time spent studying', 'knowledge acquisition', 'teacher quality', 'classroom environment', 'noise levels', 'seating arrangements', 'learning outcome']\n"
     ]
    }
   ],
   "source": [
    "node_extractor = NodeExtractor(client)\n",
    "extracted_nodes = node_extractor.extract_nodes_gpt(example)\n",
    "print(f'Extracted nodex: {extracted_nodes}')"
   ]
  },
  {
   "cell_type": "code",
   "execution_count": 57,
   "metadata": {},
   "outputs": [],
   "source": [
    "from NLI_extract_edges import EdgeExtractor"
   ]
  },
  {
   "cell_type": "code",
   "execution_count": 58,
   "metadata": {},
   "outputs": [
    {
     "name": "stdout",
     "output_type": "stream",
     "text": [
      "time spent studying # knowledge acquisition\n",
      "time spent studying # teacher quality\n",
      "time spent studying # classroom environment\n",
      "time spent studying # noise levels\n",
      "time spent studying # seating arrangements\n",
      "time spent studying # learning outcome\n",
      "knowledge acquisition # teacher quality\n",
      "knowledge acquisition # classroom environment\n",
      "knowledge acquisition # noise levels\n",
      "knowledge acquisition # seating arrangements\n",
      "knowledge acquisition # learning outcome\n",
      "teacher quality # classroom environment\n",
      "teacher quality # noise levels\n",
      "teacher quality # seating arrangements\n",
      "teacher quality # learning outcome\n",
      "classroom environment # noise levels\n",
      "classroom environment # seating arrangements\n",
      "classroom environment # learning outcome\n",
      "noise levels # seating arrangements\n",
      "noise levels # learning outcome\n",
      "seating arrangements # learning outcome\n",
      "Extracted edges:\n",
      "[('time spent studying', 'knowledge acquisition'), ('time spent studying', 'learning outcome'), ('knowledge acquisition', 'learning outcome'), ('teacher quality', 'learning outcome'), ('classroom environment', 'learning outcome')]\n"
     ]
    }
   ],
   "source": [
    "edge_extractor = EdgeExtractor(async_client)\n",
    "extracted_edges = await edge_extractor.async_extract_all_edges(\n",
    "    example,\n",
    "    extracted_nodes,\n",
    "    verbose=True\n",
    ")\n",
    "print(f'Extracted edges:\\n{extracted_edges}')"
   ]
  },
  {
   "cell_type": "code",
   "execution_count": 80,
   "metadata": {},
   "outputs": [],
   "source": [
    "from NLI_suggest_node_distribution import NodeDistributer"
   ]
  },
  {
   "cell_type": "code",
   "execution_count": 81,
   "metadata": {},
   "outputs": [
    {
     "name": "stdout",
     "output_type": "stream",
     "text": [
      "Node distributions:\n",
      "{'time spent studying': 'continuous', 'knowledge acquisition': 'continuous', 'teacher quality': 'categorical', 'classroom environment': 'categorical', 'noise levels': 'continuous', 'seating arrangements': 'categorical', 'learning outcome': 'continuous'}\n"
     ]
    }
   ],
   "source": [
    "node_distributer = NodeDistributer(async_client)\n",
    "node_distrs = await node_distributer.async_suggest_vertex_distributions(\n",
    "    example,\n",
    "    extracted_nodes,\n",
    ")\n",
    "\n",
    "print(f'Node distributions:\\n{node_distrs}')"
   ]
  },
  {
   "cell_type": "markdown",
   "metadata": {},
   "source": [
    "# Trash"
   ]
  },
  {
   "cell_type": "code",
   "execution_count": null,
   "metadata": {},
   "outputs": [],
   "source": []
  },
  {
   "cell_type": "code",
   "execution_count": 29,
   "metadata": {
    "id": "L8vFGUGEYV70"
   },
   "outputs": [],
   "source": [
    "from NLI_node_extraction import extract_nodes_gpt"
   ]
  },
  {
   "cell_type": "code",
   "execution_count": 10,
   "metadata": {
    "colab": {
     "base_uri": "https://localhost:8080/"
    },
    "id": "ka_klctQZHrs",
    "outputId": "800566da-3399-4992-e3c2-38557709b12e"
   },
   "outputs": [
    {
     "data": {
      "text/plain": [
       "['time spent studying',\n",
       " 'knowledge acquisition',\n",
       " 'teacher quality',\n",
       " 'classroom environment',\n",
       " 'noise levels',\n",
       " 'seating arrangements',\n",
       " 'learning outcome']"
      ]
     },
     "execution_count": 10,
     "metadata": {},
     "output_type": "execute_result"
    }
   ],
   "source": [
    "extract_nodes_gpt(example, client, gpt_model='gpt-4o-mini', temperature=0)"
   ]
  },
  {
   "cell_type": "markdown",
   "metadata": {
    "id": "ndmOgjvwZSOy"
   },
   "source": [
    "#### Extract vertices for test dataset\n"
   ]
  },
  {
   "cell_type": "code",
   "execution_count": null,
   "metadata": {},
   "outputs": [],
   "source": [
    "%pip install pandas"
   ]
  },
  {
   "cell_type": "code",
   "execution_count": 13,
   "metadata": {
    "id": "4mtF4MeUTKuK"
   },
   "outputs": [],
   "source": [
    "import pandas as pd\n",
    "path_to_save = '/home/ernest/Desktop/graphical-model-generation/'\n",
    "graphs_with_description = pd.read_csv(path_to_save + '/Training_graphs.csv', index_col=None).drop(['Unnamed: 0'], axis=1)"
   ]
  },
  {
   "cell_type": "code",
   "execution_count": 14,
   "metadata": {
    "id": "TQj2SPAMTCB0"
   },
   "outputs": [],
   "source": [
    "graphs_with_description['extracted_nodes'] = graphs_with_description['descr'].apply(lambda x: extract_nodes_gpt(x, client, gpt_model='gpt-4o', temperature=0))"
   ]
  },
  {
   "cell_type": "code",
   "execution_count": 15,
   "metadata": {
    "colab": {
     "base_uri": "https://localhost:8080/",
     "height": 175
    },
    "id": "oqOOyh-lUd3T",
    "outputId": "fb42f6a7-531e-470d-cea9-9810cdac124b"
   },
   "outputs": [
    {
     "data": {
      "text/html": [
       "<div>\n",
       "<style scoped>\n",
       "    .dataframe tbody tr th:only-of-type {\n",
       "        vertical-align: middle;\n",
       "    }\n",
       "\n",
       "    .dataframe tbody tr th {\n",
       "        vertical-align: top;\n",
       "    }\n",
       "\n",
       "    .dataframe thead th {\n",
       "        text-align: right;\n",
       "    }\n",
       "</style>\n",
       "<table border=\"1\" class=\"dataframe\">\n",
       "  <thead>\n",
       "    <tr style=\"text-align: right;\">\n",
       "      <th></th>\n",
       "      <th>nodes</th>\n",
       "      <th>extracted_nodes</th>\n",
       "    </tr>\n",
       "  </thead>\n",
       "  <tbody>\n",
       "    <tr>\n",
       "      <th>0</th>\n",
       "      <td>['asia', 'tub', 'smoke', 'lung', 'bronc', 'eit...</td>\n",
       "      <td>[Shortness-of-breath, Tuberculosis, Lung Cance...</td>\n",
       "    </tr>\n",
       "    <tr>\n",
       "      <th>1</th>\n",
       "      <td>['Pollution', 'Smoker', 'Cancer', 'Xray', 'Dys...</td>\n",
       "      <td>[Pollution, Smoker, Cancer, Dyspnoea, XRay]</td>\n",
       "    </tr>\n",
       "    <tr>\n",
       "      <th>2</th>\n",
       "      <td>['Burglary', 'Earthquake', 'Alarm', 'JohnCalls...</td>\n",
       "      <td>[Burglar Alarm, Burglary, Earthquake, John Cal...</td>\n",
       "    </tr>\n",
       "    <tr>\n",
       "      <th>3</th>\n",
       "      <td>['A', 'S', 'E', 'O', 'R', 'T']</td>\n",
       "      <td>[Age, Sex, Education, Occupation, Residence, T...</td>\n",
       "    </tr>\n",
       "  </tbody>\n",
       "</table>\n",
       "</div>"
      ],
      "text/plain": [
       "                                               nodes  \\\n",
       "0  ['asia', 'tub', 'smoke', 'lung', 'bronc', 'eit...   \n",
       "1  ['Pollution', 'Smoker', 'Cancer', 'Xray', 'Dys...   \n",
       "2  ['Burglary', 'Earthquake', 'Alarm', 'JohnCalls...   \n",
       "3                     ['A', 'S', 'E', 'O', 'R', 'T']   \n",
       "\n",
       "                                     extracted_nodes  \n",
       "0  [Shortness-of-breath, Tuberculosis, Lung Cance...  \n",
       "1        [Pollution, Smoker, Cancer, Dyspnoea, XRay]  \n",
       "2  [Burglar Alarm, Burglary, Earthquake, John Cal...  \n",
       "3  [Age, Sex, Education, Occupation, Residence, T...  "
      ]
     },
     "execution_count": 15,
     "metadata": {},
     "output_type": "execute_result"
    }
   ],
   "source": [
    "# gpt-4o-mini\n",
    "graphs_with_description[['nodes', 'extracted_nodes']]"
   ]
  },
  {
   "cell_type": "markdown",
   "metadata": {
    "id": "Zj5q7Hu2VyQk"
   },
   "source": [
    "#### Extract vertex dependencies\n",
    "\n",
    "На взод дается описание графа на естественном языке и две вершины. Нужно по описанию и именам 2 вершин сказать, есть ли между ними ребро И если есть --- то в какую сторону. O(n^2) без памяти.\n",
    "\n",
    "\n",
    "Работает не очень хорошо."
   ]
  },
  {
   "cell_type": "code",
   "execution_count": 16,
   "metadata": {
    "id": "GtBcUm_ifw7N"
   },
   "outputs": [],
   "source": [
    "from NLI_extract_edges import async_extract_one_edge_gpt, extract_one_edge_gpt"
   ]
  },
  {
   "cell_type": "code",
   "execution_count": 29,
   "metadata": {
    "colab": {
     "base_uri": "https://localhost:8080/"
    },
    "id": "c5AQHjJ5MB-z",
    "outputId": "84ae2622-ed06-4d85-87be-387ae33d3260"
   },
   "outputs": [
    {
     "name": "stdout",
     "output_type": "stream",
     "text": [
      "['Time Spent Studying', 'Knowledge Acquisition', 'Teacher Quality', 'Classroom Environment', 'Learning Outcome']\n"
     ]
    }
   ],
   "source": [
    "example_nodes = extract_nodes_gpt(example, client, gpt_model='gpt-4o-mini', temperature=0)\n",
    "print(example_nodes)"
   ]
  },
  {
   "cell_type": "code",
   "execution_count": 35,
   "metadata": {
    "colab": {
     "base_uri": "https://localhost:8080/"
    },
    "id": "T60HSGjQL_z9",
    "outputId": "9705f144-cc54-461f-9225-763043344c91"
   },
   "outputs": [
    {
     "data": {
      "text/plain": [
       "['Time Spent Studying', 'Knowledge Acquisition']"
      ]
     },
     "execution_count": 35,
     "metadata": {},
     "output_type": "execute_result"
    }
   ],
   "source": [
    "await async_extract_one_edge_gpt(example, example_nodes, example_nodes[:2][::-1], async_client, gpt_model='gpt-4o-mini', temperature=0)"
   ]
  },
  {
   "cell_type": "code",
   "execution_count": 37,
   "metadata": {
    "colab": {
     "base_uri": "https://localhost:8080/"
    },
    "id": "sVFDYlSSdII2",
    "outputId": "ce48146c-19f1-4551-e308-0d3fc217d567"
   },
   "outputs": [
    {
     "data": {
      "text/plain": [
       "('Teacher Quality', 'Learning Outcome')"
      ]
     },
     "execution_count": 37,
     "metadata": {},
     "output_type": "execute_result"
    }
   ],
   "source": [
    "extract_one_edge_gpt(example, example_nodes, ('Learning Outcome', 'Teacher Quality'), client, gpt_model='gpt-4o-mini', temperature=0)"
   ]
  },
  {
   "cell_type": "code",
   "execution_count": 42,
   "metadata": {
    "colab": {
     "base_uri": "https://localhost:8080/"
    },
    "id": "vML7cHHadR9n",
    "outputId": "e836e418-ad80-4e23-a5ca-b3b30e29e84c"
   },
   "outputs": [
    {
     "data": {
      "text/plain": [
       "(None, None)"
      ]
     },
     "execution_count": 42,
     "metadata": {},
     "output_type": "execute_result"
    }
   ],
   "source": [
    "extract_one_edge_gpt(example, example_nodes, ('Classroom Environment', 'Teacher Quality'), client, gpt_model='gpt-4o-mini', temperature=0)"
   ]
  },
  {
   "cell_type": "code",
   "execution_count": 39,
   "metadata": {
    "colab": {
     "base_uri": "https://localhost:8080/"
    },
    "id": "IU-Laq6AfeQv",
    "outputId": "f5c4c82d-dd5f-4866-f398-356078ef430f"
   },
   "outputs": [
    {
     "data": {
      "text/plain": [
       "(None, None)"
      ]
     },
     "execution_count": 39,
     "metadata": {},
     "output_type": "execute_result"
    }
   ],
   "source": [
    "extract_one_edge_gpt(example, example_nodes, ('Classroom Environment', 'Knowledge Acquisition'), client, gpt_model='gpt-4o-mini', temperature=0)"
   ]
  },
  {
   "cell_type": "code",
   "execution_count": 43,
   "metadata": {
    "id": "yYFt6W5kMmbU"
   },
   "outputs": [],
   "source": [
    "from NLI_extract_edges import extract_all_edges"
   ]
  },
  {
   "cell_type": "code",
   "execution_count": 44,
   "metadata": {
    "colab": {
     "base_uri": "https://localhost:8080/"
    },
    "id": "6pXcd2ZAMn3H",
    "outputId": "f93b1d44-cce1-46bd-95d5-58b54c888bcc"
   },
   "outputs": [
    {
     "name": "stdout",
     "output_type": "stream",
     "text": [
      "Time Spent Studying # Knowledge Acquisition\n",
      "Time Spent Studying # Teacher Quality\n",
      "Time Spent Studying # Classroom Environment\n",
      "Time Spent Studying # Learning Outcome\n",
      "Knowledge Acquisition # Teacher Quality\n",
      "Knowledge Acquisition # Classroom Environment\n",
      "Knowledge Acquisition # Learning Outcome\n",
      "Teacher Quality # Classroom Environment\n",
      "Teacher Quality # Learning Outcome\n",
      "Classroom Environment # Learning Outcome\n",
      "[('Time Spent Studying', 'Knowledge Acquisition'), ('Time Spent Studying', 'Learning Outcome'), ('Classroom Environment', 'Knowledge Acquisition'), ('Knowledge Acquisition', 'Learning Outcome'), ('Classroom Environment', 'Teacher Quality'), ('Teacher Quality', 'Learning Outcome'), ('Classroom Environment', 'Learning Outcome')]\n"
     ]
    }
   ],
   "source": [
    "example_edge_list = await extract_all_edges(example, example_nodes, async_client, gpt_model='gpt-4o', temperature=0, verbose=True)\n",
    "print(example_edge_list)"
   ]
  },
  {
   "cell_type": "code",
   "execution_count": null,
   "metadata": {
    "id": "07E8_XOWNJRB"
   },
   "outputs": [],
   "source": []
  },
  {
   "cell_type": "code",
   "execution_count": null,
   "metadata": {
    "colab": {
     "base_uri": "https://localhost:8080/"
    },
    "id": "ZOSLu45Kfhi9",
    "outputId": "09c0a825-4bac-455c-a725-7eb05b70fe27"
   },
   "outputs": [
    {
     "name": "stdout",
     "output_type": "stream",
     "text": [
      "asia # tub\n",
      "asia # smoke\n",
      "asia # lung\n",
      "asia # bronc\n",
      "asia # either\n",
      "asia # xray\n",
      "asia # dysp\n",
      "tub # smoke\n",
      "tub # lung\n",
      "tub # bronc\n",
      "tub # either\n",
      "tub # xray\n",
      "tub # dysp\n",
      "smoke # lung\n",
      "smoke # bronc\n",
      "smoke # either\n",
      "smoke # xray\n",
      "smoke # dysp\n",
      "lung # bronc\n",
      "lung # either\n",
      "lung # xray\n",
      "lung # dysp\n",
      "bronc # either\n",
      "bronc # xray\n",
      "bronc # dysp\n",
      "either # xray\n",
      "either # dysp\n",
      "xray # dysp\n",
      "[('asia', 'tub'), ('asia', 'lung'), ('asia', 'either'), ('asia', 'dysp'), ('tub', 'either'), ('smoke', 'lung'), ('smoke', 'bronc'), ('smoke', 'dysp'), ('lung', 'dysp')]\n"
     ]
    }
   ],
   "source": [
    "example_edge_list = await extract_all_edges(graphs_with_description['descr'][0],\n",
    "                                            re.sub(\"\\'\", \"\", graphs_with_description['nodes'][0][1:-1]).split(', '),\n",
    "                                            async_client,\n",
    "                                            gpt_model='gpt-4o-mini',\n",
    "                                            temperature=0)\n",
    "print(example_edge_list)"
   ]
  },
  {
   "cell_type": "code",
   "execution_count": null,
   "metadata": {
    "colab": {
     "base_uri": "https://localhost:8080/"
    },
    "id": "TMq3JD5qhXAX",
    "outputId": "b765517a-4b6e-49b0-b751-afecc102b609"
   },
   "outputs": [
    {
     "name": "stdout",
     "output_type": "stream",
     "text": [
      "Shortness-of-breath # Tuberculosis\n",
      "Shortness-of-breath # Lung Cancer\n",
      "Shortness-of-breath # Bronchitis\n",
      "Shortness-of-breath # Visit to Asia\n",
      "Shortness-of-breath # Smoking\n",
      "Shortness-of-breath # Chest X-ray\n",
      "Tuberculosis # Lung Cancer\n",
      "Tuberculosis # Bronchitis\n",
      "Tuberculosis # Visit to Asia\n",
      "Tuberculosis # Smoking\n",
      "Tuberculosis # Chest X-ray\n",
      "Lung Cancer # Bronchitis\n",
      "Lung Cancer # Visit to Asia\n",
      "Lung Cancer # Smoking\n",
      "Lung Cancer # Chest X-ray\n",
      "Bronchitis # Visit to Asia\n",
      "Bronchitis # Smoking\n",
      "Bronchitis # Chest X-ray\n",
      "Visit to Asia # Smoking\n",
      "Visit to Asia # Chest X-ray\n",
      "Smoking # Chest X-ray\n",
      "[('Shortness-of-breath', 'Tuberculosis'), ('Shortness-of-breath', 'Lung Cancer'), ('Shortness-of-breath', 'Bronchitis'), ('Tuberculosis', 'Visit to Asia'), ('Bronchitis', 'Smoking')]\n"
     ]
    }
   ],
   "source": [
    "example_edge_list = await extract_all_edges(graphs_with_description['descr'][0],\n",
    "                                            graphs_with_description['extracted_nodes'][0],\n",
    "                                            async_client,\n",
    "                                            gpt_model='gpt-4o-mini',\n",
    "                                            temperature=0)\n",
    "print(example_edge_list)"
   ]
  },
  {
   "cell_type": "code",
   "execution_count": null,
   "metadata": {
    "colab": {
     "base_uri": "https://localhost:8080/"
    },
    "id": "9T03q9xvhfAO",
    "outputId": "446a3986-0688-4194-d8a3-db4468a7a84a"
   },
   "outputs": [
    {
     "name": "stdout",
     "output_type": "stream",
     "text": [
      "Shortness-of-breath # Tuberculosis\n",
      "Shortness-of-breath # Lung Cancer\n",
      "Shortness-of-breath # Bronchitis\n",
      "Shortness-of-breath # Visit to Asia\n",
      "Shortness-of-breath # Smoking\n",
      "Shortness-of-breath # Chest X-ray\n",
      "Tuberculosis # Lung Cancer\n",
      "Tuberculosis # Bronchitis\n",
      "Tuberculosis # Visit to Asia\n",
      "Tuberculosis # Smoking\n",
      "Tuberculosis # Chest X-ray\n",
      "Lung Cancer # Bronchitis\n",
      "Lung Cancer # Visit to Asia\n",
      "Lung Cancer # Smoking\n",
      "Lung Cancer # Chest X-ray\n",
      "Bronchitis # Visit to Asia\n",
      "Bronchitis # Smoking\n",
      "Bronchitis # Chest X-ray\n",
      "Visit to Asia # Smoking\n",
      "Visit to Asia # Chest X-ray\n",
      "Smoking # Chest X-ray\n",
      "[('Shortness-of-breath', 'Tuberculosis'), ('Shortness-of-breath', 'Lung Cancer'), ('Shortness-of-breath', 'Bronchitis'), ('Smoking', 'Shortness-of-breath'), ('Visit to Asia', 'Tuberculosis'), ('Smoking', 'Lung Cancer'), ('Smoking', 'Bronchitis')]\n"
     ]
    }
   ],
   "source": [
    "example_edge_list = await extract_all_edges(graphs_with_description['descr'][0],\n",
    "                                            graphs_with_description['extracted_nodes'][0],\n",
    "                                            async_client,\n",
    "                                            gpt_model='gpt-4o',\n",
    "                                            temperature=0)\n",
    "print(example_edge_list)"
   ]
  },
  {
   "cell_type": "markdown",
   "metadata": {
    "id": "PjOaNxAakQdK"
   },
   "source": [
    "Попробовать: сразу для ксех вершин сказать, какое направление ребер"
   ]
  },
  {
   "cell_type": "markdown",
   "metadata": {
    "id": "OI53x1vEVZqs"
   },
   "source": [
    "#### Suggest vertex distributions\n",
    "\n",
    "По описанию и извлеченным вершинам должны выдаваться типы распределений: binary, categorical, continious.\n",
    "\n",
    "Дальнейшее улучшение: указывать кол-во вариаттов для дискретных."
   ]
  },
  {
   "cell_type": "code",
   "execution_count": 47,
   "metadata": {
    "id": "QQk0FalSNZRn"
   },
   "outputs": [],
   "source": [
    "from NLI_suggest_node_distribution import suggest_vertex_distribution, async_suggest_vertex_distributions"
   ]
  },
  {
   "cell_type": "code",
   "execution_count": 48,
   "metadata": {
    "id": "4h5cXifyulFW"
   },
   "outputs": [],
   "source": [
    "example = '''Think about a classroom where student learning is shaped by different factors. The amount of Time Spent Studying directly influences Knowledge Acquisition. Teacher Quality also affects how well students understand the material. Classroom Environment, such as noise levels and seating arrangements, can impact both Teacher Quality and Knowledge Acquisition. Altogether, these elements contribute to a student's overall Learning Outcome.'''.lower()"
   ]
  },
  {
   "cell_type": "code",
   "execution_count": 49,
   "metadata": {
    "colab": {
     "base_uri": "https://localhost:8080/"
    },
    "id": "Zfyh6INQulFW",
    "outputId": "6220e579-db5b-43ff-e5f2-2a8b151e2b24"
   },
   "outputs": [
    {
     "name": "stdout",
     "output_type": "stream",
     "text": [
      "['time spent studying', 'knowledge acquisition', 'teacher quality', 'classroom environment', 'noise levels', 'seating arrangements', 'learning outcome']\n"
     ]
    }
   ],
   "source": [
    "example_nodes = extract_nodes_gpt(example, client, gpt_model='gpt-4o-mini', temperature=0)\n",
    "print(example_nodes)"
   ]
  },
  {
   "cell_type": "code",
   "execution_count": 50,
   "metadata": {
    "colab": {
     "base_uri": "https://localhost:8080/",
     "height": 178,
     "referenced_widgets": [
      "f64d5805c76a43dc97f0414e9f9292cf",
      "25f5cd664089466094051514c1bfd13b",
      "3888c55132084f6d89d4848900c1054b",
      "0b8f516f08a143c1a85f9e2585ed6d51",
      "e2dc466fb70c4abdb778a7fb91696dee",
      "bbac8a4cf4654f5ca09bcf0c851a4d29",
      "dfe244ceb21341fdb1e01bd5b33ca8e7",
      "4b7aa5cf8f3442e186480f8d0a31f250",
      "fcb2fd20d56e4ae48da922dcbb70ddfb",
      "bf2fccac2007458aade3cfa31732318f",
      "2e39fc343a0e41e28d2cd107b617f481"
     ]
    },
    "id": "uObWWUDnuoSr",
    "outputId": "62da4e76-7fde-4754-9100-1d5dff2acbd6"
   },
   "outputs": [
    {
     "data": {
      "application/vnd.jupyter.widget-view+json": {
       "model_id": "f64d5805c76a43dc97f0414e9f9292cf",
       "version_major": 2,
       "version_minor": 0
      },
      "text/plain": [
       "  0%|          | 0/7 [00:00<?, ?it/s]"
      ]
     },
     "metadata": {},
     "output_type": "display_data"
    },
    {
     "name": "stdout",
     "output_type": "stream",
     "text": [
      "For node time spent studying -> continuous\n",
      "For node knowledge acquisition -> continuous\n",
      "For node teacher quality -> categorical\n",
      "For node classroom environment -> categorical\n",
      "For node noise levels -> categorical\n",
      "For node seating arrangements -> categorical\n",
      "For node learning outcome -> coutinious\n"
     ]
    }
   ],
   "source": [
    "from tqdm.auto import tqdm\n",
    "\n",
    "for node_name in tqdm(example_nodes):\n",
    "    distr = suggest_vertex_distribution(example, node_name, client, gpt_model='gpt-4o-mini', temperature=0)\n",
    "    print(f'For node {node_name} -> {distr}')"
   ]
  },
  {
   "cell_type": "code",
   "execution_count": null,
   "metadata": {
    "id": "D7zaOfumu3pC"
   },
   "outputs": [],
   "source": [
    "nodes_asia = re.sub(\"\\'\", \"\", graphs_with_description['nodes'][0][1:-1]).split(', ')"
   ]
  },
  {
   "cell_type": "code",
   "execution_count": null,
   "metadata": {
    "colab": {
     "base_uri": "https://localhost:8080/"
    },
    "id": "ij-QMcwXv-aC",
    "outputId": "482c088c-b0f5-4cfd-dae3-5eb0d6b38d40"
   },
   "outputs": [
    {
     "data": {
      "text/plain": [
       "['asia', 'tub', 'smoke', 'lung', 'bronc', 'either', 'xray', 'dysp']"
      ]
     },
     "execution_count": 33,
     "metadata": {},
     "output_type": "execute_result"
    }
   ],
   "source": [
    "nodes_asia"
   ]
  },
  {
   "cell_type": "code",
   "execution_count": null,
   "metadata": {
    "colab": {
     "base_uri": "https://localhost:8080/",
     "height": 188,
     "referenced_widgets": [
      "fd472c1f51834777aee69cfc4ff9e3ab",
      "6059029c4c764282b6f8f11743e9dd36",
      "abc320e780ee479ca4009b762cc07baa",
      "00d300a67702415e86967febc8745e82",
      "ba6133e0168f4d5cac3e486756c3b419",
      "f680d6ff72304e6b9f3ac0ca08b7c9f6",
      "323ef079bdcc475b8f81d531537f77b2",
      "447292ee8e93418ab4e64cb8e49340dc",
      "53d6709da99e477d9095ad6e54d8bed1",
      "4d9e5b749d8d48eba1530165708065e6",
      "b6f14821912a486689d881a01e960b10"
     ]
    },
    "id": "RS0FNKjS0NJQ",
    "outputId": "598f558e-ed79-40dd-b2e2-f86e886fb1f1"
   },
   "outputs": [
    {
     "data": {
      "application/vnd.jupyter.widget-view+json": {
       "model_id": "fd472c1f51834777aee69cfc4ff9e3ab",
       "version_major": 2,
       "version_minor": 0
      },
      "text/plain": [
       "  0%|          | 0/8 [00:00<?, ?it/s]"
      ]
     },
     "metadata": {},
     "output_type": "display_data"
    },
    {
     "name": "stdout",
     "output_type": "stream",
     "text": [
      "For node asia -> binary\n",
      "For node tub -> categorical\n",
      "For node smoke -> binary\n",
      "For node lung -> categorical\n",
      "For node bronc -> categorical\n",
      "For node either -> categorical\n",
      "For node xray -> categorical\n",
      "For node dysp -> binary\n"
     ]
    }
   ],
   "source": [
    "for node_name in tqdm(nodes_asia):\n",
    "    distr = suggest_vertex_distribution(graphs_with_description['descr'][0], node_name, client, gpt_model='gpt-4o-mini', temperature=0)\n",
    "    print(f'For node {node_name} -> {distr}')"
   ]
  },
  {
   "cell_type": "code",
   "execution_count": null,
   "metadata": {
    "colab": {
     "base_uri": "https://localhost:8080/",
     "height": 52
    },
    "id": "hVidbLwNwKjL",
    "outputId": "41d7a5ae-ee4e-41cb-ddff-bebc7b2188a2"
   },
   "outputs": [
    {
     "data": {
      "application/vnd.google.colaboratory.intrinsic+json": {
       "type": "string"
      },
      "text/plain": [
       "\"{'asia': 'Binary', 'smoke': 'Binary', 'bronc': 'Binary', 'either': 'Binary', 'dysp': 'Binary', 'lung': 'Binary', 'tub': 'Binary', 'xray': 'Binary'}\""
      ]
     },
     "execution_count": 35,
     "metadata": {},
     "output_type": "execute_result"
    }
   ],
   "source": [
    "graphs_with_description['node_distrs'][0]"
   ]
  },
  {
   "cell_type": "code",
   "execution_count": null,
   "metadata": {
    "colab": {
     "base_uri": "https://localhost:8080/"
    },
    "id": "Fqy0RO4OwQxB",
    "outputId": "e6afa604-2ea7-4d3d-ee60-68bbe1e1d3e1"
   },
   "outputs": [
    {
     "name": "stdout",
     "output_type": "stream",
     "text": [
      "{'asia': 'binary', 'tub': 'categorical', 'smoke': 'binary', 'lung': 'categorical', 'bronc': 'categorical', 'either': 'categorical', 'xray': 'categorical', 'dysp': 'binary'}\n"
     ]
    }
   ],
   "source": [
    "node_distrs = await async_suggest_vertex_distributions(graphs_with_description['descr'][0], nodes_asia, async_client, gpt_model='gpt-4o-mini')\n",
    "print(node_distrs)"
   ]
  },
  {
   "cell_type": "code",
   "execution_count": null,
   "metadata": {
    "colab": {
     "base_uri": "https://localhost:8080/"
    },
    "id": "9SeaWC_sxjiD",
    "outputId": "6da6f1c2-fd55-4cf9-b672-036af598fe46"
   },
   "outputs": [
    {
     "name": "stdout",
     "output_type": "stream",
     "text": [
      "{'asia': 'binary', 'tub': 'binary', 'smoke': 'binary', 'lung': 'categorical', 'bronc': 'binary', 'either': 'binary', 'xray': 'binary', 'dysp': 'binary'}\n"
     ]
    }
   ],
   "source": [
    "node_distrs = await async_suggest_vertex_distributions(graphs_with_description['descr'][0], nodes_asia, async_client, gpt_model='gpt-4o')\n",
    "print(node_distrs)"
   ]
  },
  {
   "cell_type": "markdown",
   "metadata": {
    "id": "bHKa1NfZyEOD"
   },
   "source": [
    "#### Целый класс по обработке описания"
   ]
  },
  {
   "cell_type": "code",
   "execution_count": null,
   "metadata": {
    "colab": {
     "base_uri": "https://localhost:8080/"
    },
    "id": "qS5HJy01yJzh",
    "outputId": "17032584-5ee5-4d63-838b-dc9ff379ead4"
   },
   "outputs": [
    {
     "name": "stdout",
     "output_type": "stream",
     "text": [
      "Writing mypy.py\n"
     ]
    }
   ],
   "source": []
  },
  {
   "cell_type": "code",
   "execution_count": null,
   "metadata": {
    "id": "l5sHSHHgUGzN"
   },
   "outputs": [],
   "source": []
  },
  {
   "cell_type": "markdown",
   "metadata": {
    "id": "-TYxv34vyBjc"
   },
   "source": [
    "#### Сonstruct graph\n",
    "\n",
    "По описанию и извлеченным вершинам должны выдаваться типы распределений: binary, categorical, continious.\n",
    "\n",
    "Дальнейшее улучшение: указывать кол-во вариаттов для дискретных."
   ]
  },
  {
   "cell_type": "code",
   "execution_count": null,
   "metadata": {
    "colab": {
     "base_uri": "https://localhost:8080/"
    },
    "collapsed": true,
    "id": "QBVCpaROzd0l",
    "outputId": "2841191a-8877-480a-fb9c-fa69ba73eff4"
   },
   "outputs": [
    {
     "name": "stdout",
     "output_type": "stream",
     "text": [
      "\u001b[?25l   \u001b[90m━━━━━━━━━━━━━━━━━━━━━━━━━━━━━━━━━━━━━━━━\u001b[0m \u001b[32m0.0/2.0 MB\u001b[0m \u001b[31m?\u001b[0m eta \u001b[36m-:--:--\u001b[0m\r\u001b[2K   \u001b[91m━━━━━━━━━━━━━━━━\u001b[0m\u001b[90m╺\u001b[0m\u001b[90m━━━━━━━━━━━━━━━━━━━━━━━\u001b[0m \u001b[32m0.8/2.0 MB\u001b[0m \u001b[31m24.1 MB/s\u001b[0m eta \u001b[36m0:00:01\u001b[0m\r\u001b[2K   \u001b[90m━━━━━━━━━━━━━━━━━━━━━━━━━━━━━━━━━━━━━━━━\u001b[0m \u001b[32m2.0/2.0 MB\u001b[0m \u001b[31m29.5 MB/s\u001b[0m eta \u001b[36m0:00:00\u001b[0m\n",
      "\u001b[?25hReading package lists...\n",
      "Building dependency tree...\n",
      "Reading state information...\n",
      "graphviz is already the newest version (2.42.2-6ubuntu0.1).\n",
      "The following additional packages will be installed:\n",
      "  libgail-common libgail18 libgtk2.0-0 libgtk2.0-bin libgtk2.0-common\n",
      "  libgvc6-plugins-gtk librsvg2-common libxdot4\n",
      "Suggested packages:\n",
      "  gvfs\n",
      "The following NEW packages will be installed:\n",
      "  libgail-common libgail18 libgraphviz-dev libgtk2.0-0 libgtk2.0-bin\n",
      "  libgtk2.0-common libgvc6-plugins-gtk librsvg2-common libxdot4\n",
      "0 upgraded, 9 newly installed, 0 to remove and 49 not upgraded.\n",
      "Need to get 2,434 kB of archives.\n",
      "After this operation, 7,681 kB of additional disk space will be used.\n",
      "Get:1 http://archive.ubuntu.com/ubuntu jammy-updates/main amd64 libgtk2.0-common all 2.24.33-2ubuntu2.1 [125 kB]\n",
      "Get:2 http://archive.ubuntu.com/ubuntu jammy-updates/main amd64 libgtk2.0-0 amd64 2.24.33-2ubuntu2.1 [2,038 kB]\n",
      "Get:3 http://archive.ubuntu.com/ubuntu jammy-updates/main amd64 libgail18 amd64 2.24.33-2ubuntu2.1 [15.9 kB]\n",
      "Get:4 http://archive.ubuntu.com/ubuntu jammy-updates/main amd64 libgail-common amd64 2.24.33-2ubuntu2.1 [132 kB]\n",
      "Get:5 http://archive.ubuntu.com/ubuntu jammy-updates/universe amd64 libxdot4 amd64 2.42.2-6ubuntu0.1 [16.4 kB]\n",
      "Get:6 http://archive.ubuntu.com/ubuntu jammy-updates/universe amd64 libgvc6-plugins-gtk amd64 2.42.2-6ubuntu0.1 [22.5 kB]\n",
      "Get:7 http://archive.ubuntu.com/ubuntu jammy-updates/universe amd64 libgraphviz-dev amd64 2.42.2-6ubuntu0.1 [58.5 kB]\n",
      "Get:8 http://archive.ubuntu.com/ubuntu jammy-updates/main amd64 libgtk2.0-bin amd64 2.24.33-2ubuntu2.1 [7,936 B]\n",
      "Get:9 http://archive.ubuntu.com/ubuntu jammy-updates/main amd64 librsvg2-common amd64 2.52.5+dfsg-3ubuntu0.2 [17.7 kB]\n",
      "Fetched 2,434 kB in 2s (1,470 kB/s)\n",
      "debconf: unable to initialize frontend: Dialog\n",
      "debconf: (No usable dialog-like program is installed, so the dialog based frontend cannot be used. at /usr/share/perl5/Debconf/FrontEnd/Dialog.pm line 78, <> line 9.)\n",
      "debconf: falling back to frontend: Readline\n",
      "debconf: unable to initialize frontend: Readline\n",
      "debconf: (This frontend requires a controlling tty.)\n",
      "debconf: falling back to frontend: Teletype\n",
      "dpkg-preconfigure: unable to re-open stdin: \n",
      "Selecting previously unselected package libgtk2.0-common.\n",
      "(Reading database ... 123623 files and directories currently installed.)\n",
      "Preparing to unpack .../0-libgtk2.0-common_2.24.33-2ubuntu2.1_all.deb ...\n",
      "Unpacking libgtk2.0-common (2.24.33-2ubuntu2.1) ...\n",
      "Selecting previously unselected package libgtk2.0-0:amd64.\n",
      "Preparing to unpack .../1-libgtk2.0-0_2.24.33-2ubuntu2.1_amd64.deb ...\n",
      "Unpacking libgtk2.0-0:amd64 (2.24.33-2ubuntu2.1) ...\n",
      "Selecting previously unselected package libgail18:amd64.\n",
      "Preparing to unpack .../2-libgail18_2.24.33-2ubuntu2.1_amd64.deb ...\n",
      "Unpacking libgail18:amd64 (2.24.33-2ubuntu2.1) ...\n",
      "Selecting previously unselected package libgail-common:amd64.\n",
      "Preparing to unpack .../3-libgail-common_2.24.33-2ubuntu2.1_amd64.deb ...\n",
      "Unpacking libgail-common:amd64 (2.24.33-2ubuntu2.1) ...\n",
      "Selecting previously unselected package libxdot4:amd64.\n",
      "Preparing to unpack .../4-libxdot4_2.42.2-6ubuntu0.1_amd64.deb ...\n",
      "Unpacking libxdot4:amd64 (2.42.2-6ubuntu0.1) ...\n",
      "Selecting previously unselected package libgvc6-plugins-gtk.\n",
      "Preparing to unpack .../5-libgvc6-plugins-gtk_2.42.2-6ubuntu0.1_amd64.deb ...\n",
      "Unpacking libgvc6-plugins-gtk (2.42.2-6ubuntu0.1) ...\n",
      "Selecting previously unselected package libgraphviz-dev:amd64.\n",
      "Preparing to unpack .../6-libgraphviz-dev_2.42.2-6ubuntu0.1_amd64.deb ...\n",
      "Unpacking libgraphviz-dev:amd64 (2.42.2-6ubuntu0.1) ...\n",
      "Selecting previously unselected package libgtk2.0-bin.\n",
      "Preparing to unpack .../7-libgtk2.0-bin_2.24.33-2ubuntu2.1_amd64.deb ...\n",
      "Unpacking libgtk2.0-bin (2.24.33-2ubuntu2.1) ...\n",
      "Selecting previously unselected package librsvg2-common:amd64.\n",
      "Preparing to unpack .../8-librsvg2-common_2.52.5+dfsg-3ubuntu0.2_amd64.deb ...\n",
      "Unpacking librsvg2-common:amd64 (2.52.5+dfsg-3ubuntu0.2) ...\n",
      "Setting up libxdot4:amd64 (2.42.2-6ubuntu0.1) ...\n",
      "Setting up librsvg2-common:amd64 (2.52.5+dfsg-3ubuntu0.2) ...\n",
      "Setting up libgtk2.0-common (2.24.33-2ubuntu2.1) ...\n",
      "Setting up libgtk2.0-0:amd64 (2.24.33-2ubuntu2.1) ...\n",
      "Setting up libgvc6-plugins-gtk (2.42.2-6ubuntu0.1) ...\n",
      "Setting up libgail18:amd64 (2.24.33-2ubuntu2.1) ...\n",
      "Setting up libgtk2.0-bin (2.24.33-2ubuntu2.1) ...\n",
      "Setting up libgail-common:amd64 (2.24.33-2ubuntu2.1) ...\n",
      "Setting up libgraphviz-dev:amd64 (2.42.2-6ubuntu0.1) ...\n",
      "Processing triggers for libc-bin (2.35-0ubuntu3.4) ...\n",
      "/sbin/ldconfig.real: /usr/local/lib/libur_loader.so.0 is not a symbolic link\n",
      "\n",
      "/sbin/ldconfig.real: /usr/local/lib/libumf.so.0 is not a symbolic link\n",
      "\n",
      "/sbin/ldconfig.real: /usr/local/lib/libtbbmalloc.so.2 is not a symbolic link\n",
      "\n",
      "/sbin/ldconfig.real: /usr/local/lib/libtbbbind_2_0.so.3 is not a symbolic link\n",
      "\n",
      "/sbin/ldconfig.real: /usr/local/lib/libtcm_debug.so.1 is not a symbolic link\n",
      "\n",
      "/sbin/ldconfig.real: /usr/local/lib/libtbbmalloc_proxy.so.2 is not a symbolic link\n",
      "\n",
      "/sbin/ldconfig.real: /usr/local/lib/libtbbbind.so.3 is not a symbolic link\n",
      "\n",
      "/sbin/ldconfig.real: /usr/local/lib/libur_adapter_opencl.so.0 is not a symbolic link\n",
      "\n",
      "/sbin/ldconfig.real: /usr/local/lib/libtbb.so.12 is not a symbolic link\n",
      "\n",
      "/sbin/ldconfig.real: /usr/local/lib/libur_adapter_level_zero.so.0 is not a symbolic link\n",
      "\n",
      "/sbin/ldconfig.real: /usr/local/lib/libtcm.so.1 is not a symbolic link\n",
      "\n",
      "/sbin/ldconfig.real: /usr/local/lib/libhwloc.so.15 is not a symbolic link\n",
      "\n",
      "/sbin/ldconfig.real: /usr/local/lib/libtbbbind_2_5.so.3 is not a symbolic link\n",
      "\n",
      "Processing triggers for man-db (2.10.2-1) ...\n",
      "Processing triggers for libgdk-pixbuf-2.0-0:amd64 (2.42.8+dfsg-1ubuntu0.3) ...\n",
      "\u001b[2K     \u001b[90m━━━━━━━━━━━━━━━━━━━━━━━━━━━━━━━━━━━━━━━━\u001b[0m \u001b[32m106.0/106.0 kB\u001b[0m \u001b[31m4.5 MB/s\u001b[0m eta \u001b[36m0:00:00\u001b[0m\n",
      "\u001b[?25h  Installing build dependencies ... \u001b[?25l\u001b[?25hdone\n",
      "  Getting requirements to build wheel ... \u001b[?25l\u001b[?25hdone\n",
      "  Preparing metadata (pyproject.toml) ... \u001b[?25l\u001b[?25hdone\n",
      "  Building wheel for pygraphviz (pyproject.toml) ... \u001b[?25l\u001b[?25hdone\n"
     ]
    }
   ],
   "source": [
    "!pip install pgmpy -q\n",
    "!sudo apt-get install graphviz graphviz-dev -q\n",
    "!pip install pygraphviz -q"
   ]
  },
  {
   "cell_type": "code",
   "execution_count": null,
   "metadata": {
    "id": "Ue9WJ4G7zrN5"
   },
   "outputs": [],
   "source": [
    "# Imports\n",
    "from IPython.display import Image\n",
    "from pgmpy.utils import get_example_model\n",
    "import matplotlib.pyplot as plt\n",
    "from tqdm.auto import tqdm\n",
    "import pandas as pd\n",
    "from pgmpy.base import DAG"
   ]
  },
  {
   "cell_type": "code",
   "execution_count": null,
   "metadata": {
    "id": "8dMe7mECyVtJ"
   },
   "outputs": [],
   "source": [
    "from pgmpy.base import DAG\n",
    "\n",
    "def construct_graph(node_names, edge_list, node_distrs=None):\n",
    "    G = DAG()\n",
    "\n",
    "    # add nodes\n",
    "    try:\n",
    "        G.add_nodes_from(node_names)\n",
    "    except:\n",
    "        print('Something wrong with nodex')\n",
    "        raise\n",
    "\n",
    "\n",
    "    # add edges\n",
    "    try:\n",
    "        G.add_edges_from(ebunch=edge_list)\n",
    "    except:\n",
    "        print('Something wrong with nodex')\n",
    "        raise\n",
    "\n",
    "    return G"
   ]
  },
  {
   "cell_type": "code",
   "execution_count": null,
   "metadata": {
    "id": "zQNihWj94c0U"
   },
   "outputs": [],
   "source": [
    "import pgmpy\n",
    "\n",
    "def visualize_graph(G: pgmpy.base.DAG, g_name=''):\n",
    "    viz = G.to_graphviz()\n",
    "    viz.draw(f'{g_name}.png', prog='neato')\n",
    "    return Image(f'{g_name}.png')"
   ]
  },
  {
   "cell_type": "code",
   "execution_count": null,
   "metadata": {
    "id": "AKNalP4HV8bE"
   },
   "outputs": [],
   "source": []
  },
  {
   "cell_type": "code",
   "execution_count": null,
   "metadata": {
    "id": "TAkqv3ke4dOR"
   },
   "outputs": [],
   "source": [
    "edges_asia = [('asia', 'tub'), ('tub', 'either'), ('smoke', 'lung'), ('smoke', 'bronc'), ('lung', 'either'), ('bronc', 'dysp'), ('either', 'xray'), ('either', 'dysp')]\n",
    "nodes_asia = ['asia', 'tub', 'smoke', 'lung', 'bronc', 'either', 'xray', 'dysp']"
   ]
  },
  {
   "cell_type": "code",
   "execution_count": null,
   "metadata": {
    "id": "hblUtwXh23ke"
   },
   "outputs": [],
   "source": [
    "g = construct_graph(\n",
    "    nodes_asia,\n",
    "    edges_asia\n",
    ")"
   ]
  },
  {
   "cell_type": "code",
   "execution_count": null,
   "metadata": {
    "colab": {
     "base_uri": "https://localhost:8080/",
     "height": 300
    },
    "id": "Bomx0ZZ23Ppp",
    "outputId": "fe776a75-0465-411a-8150-d54e65ccc54a"
   },
   "outputs": [
    {
     "data": {
      "image/png": "[encoded data removed]",
      "text/plain": [
       "<IPython.core.display.Image object>"
      ]
     },
     "execution_count": 94,
     "metadata": {},
     "output_type": "execute_result"
    }
   ],
   "source": [
    "visualize_graph(g, 'asia')"
   ]
  },
  {
   "cell_type": "code",
   "execution_count": null,
   "metadata": {
    "id": "cjws0BHf2KfM"
   },
   "outputs": [],
   "source": []
  }
 ],
 "metadata": {
  "colab": {
   "provenance": []
  },
  "kernelspec": {
   "display_name": ".venv",
   "language": "python",
   "name": "python3"
  },
  "language_info": {
   "codemirror_mode": {
    "name": "ipython",
    "version": 3
   },
   "file_extension": ".py",
   "mimetype": "text/x-python",
   "name": "python",
   "nbconvert_exporter": "python",
   "pygments_lexer": "ipython3",
   "version": "3.12.7"
  },
  "widgets": {
   "application/vnd.jupyter.widget-state+json": {
    "00d300a67702415e86967febc8745e82": {
     "model_module": "@jupyter-widgets/controls",
     "model_module_version": "1.5.0",
     "model_name": "HTMLModel",
     "state": {
      "_dom_classes": [],
      "_model_module": "@jupyter-widgets/controls",
      "_model_module_version": "1.5.0",
      "_model_name": "HTMLModel",
      "_view_count": null,
      "_view_module": "@jupyter-widgets/controls",
      "_view_module_version": "1.5.0",
      "_view_name": "HTMLView",
      "description": "",
      "description_tooltip": null,
      "layout": "IPY_MODEL_4d9e5b749d8d48eba1530165708065e6",
      "placeholder": "​",
      "style": "IPY_MODEL_b6f14821912a486689d881a01e960b10",
      "value": " 8/8 [00:07&lt;00:00,  1.17it/s]"
     }
    },
    "0b8f516f08a143c1a85f9e2585ed6d51": {
     "model_module": "@jupyter-widgets/controls",
     "model_module_version": "1.5.0",
     "model_name": "HTMLModel",
     "state": {
      "_dom_classes": [],
      "_model_module": "@jupyter-widgets/controls",
      "_model_module_version": "1.5.0",
      "_model_name": "HTMLModel",
      "_view_count": null,
      "_view_module": "@jupyter-widgets/controls",
      "_view_module_version": "1.5.0",
      "_view_name": "HTMLView",
      "description": "",
      "description_tooltip": null,
      "layout": "IPY_MODEL_bf2fccac2007458aade3cfa31732318f",
      "placeholder": "​",
      "style": "IPY_MODEL_2e39fc343a0e41e28d2cd107b617f481",
      "value": " 7/7 [00:06&lt;00:00,  1.05it/s]"
     }
    },
    "25f5cd664089466094051514c1bfd13b": {
     "model_module": "@jupyter-widgets/controls",
     "model_module_version": "1.5.0",
     "model_name": "HTMLModel",
     "state": {
      "_dom_classes": [],
      "_model_module": "@jupyter-widgets/controls",
      "_model_module_version": "1.5.0",
      "_model_name": "HTMLModel",
      "_view_count": null,
      "_view_module": "@jupyter-widgets/controls",
      "_view_module_version": "1.5.0",
      "_view_name": "HTMLView",
      "description": "",
      "description_tooltip": null,
      "layout": "IPY_MODEL_bbac8a4cf4654f5ca09bcf0c851a4d29",
      "placeholder": "​",
      "style": "IPY_MODEL_dfe244ceb21341fdb1e01bd5b33ca8e7",
      "value": "100%"
     }
    },
    "2e39fc343a0e41e28d2cd107b617f481": {
     "model_module": "@jupyter-widgets/controls",
     "model_module_version": "1.5.0",
     "model_name": "DescriptionStyleModel",
     "state": {
      "_model_module": "@jupyter-widgets/controls",
      "_model_module_version": "1.5.0",
      "_model_name": "DescriptionStyleModel",
      "_view_count": null,
      "_view_module": "@jupyter-widgets/base",
      "_view_module_version": "1.2.0",
      "_view_name": "StyleView",
      "description_width": ""
     }
    },
    "323ef079bdcc475b8f81d531537f77b2": {
     "model_module": "@jupyter-widgets/controls",
     "model_module_version": "1.5.0",
     "model_name": "DescriptionStyleModel",
     "state": {
      "_model_module": "@jupyter-widgets/controls",
      "_model_module_version": "1.5.0",
      "_model_name": "DescriptionStyleModel",
      "_view_count": null,
      "_view_module": "@jupyter-widgets/base",
      "_view_module_version": "1.2.0",
      "_view_name": "StyleView",
      "description_width": ""
     }
    },
    "3888c55132084f6d89d4848900c1054b": {
     "model_module": "@jupyter-widgets/controls",
     "model_module_version": "1.5.0",
     "model_name": "FloatProgressModel",
     "state": {
      "_dom_classes": [],
      "_model_module": "@jupyter-widgets/controls",
      "_model_module_version": "1.5.0",
      "_model_name": "FloatProgressModel",
      "_view_count": null,
      "_view_module": "@jupyter-widgets/controls",
      "_view_module_version": "1.5.0",
      "_view_name": "ProgressView",
      "bar_style": "success",
      "description": "",
      "description_tooltip": null,
      "layout": "IPY_MODEL_4b7aa5cf8f3442e186480f8d0a31f250",
      "max": 7,
      "min": 0,
      "orientation": "horizontal",
      "style": "IPY_MODEL_fcb2fd20d56e4ae48da922dcbb70ddfb",
      "value": 7
     }
    },
    "447292ee8e93418ab4e64cb8e49340dc": {
     "model_module": "@jupyter-widgets/base",
     "model_module_version": "1.2.0",
     "model_name": "LayoutModel",
     "state": {
      "_model_module": "@jupyter-widgets/base",
      "_model_module_version": "1.2.0",
      "_model_name": "LayoutModel",
      "_view_count": null,
      "_view_module": "@jupyter-widgets/base",
      "_view_module_version": "1.2.0",
      "_view_name": "LayoutView",
      "align_content": null,
      "align_items": null,
      "align_self": null,
      "border": null,
      "bottom": null,
      "display": null,
      "flex": null,
      "flex_flow": null,
      "grid_area": null,
      "grid_auto_columns": null,
      "grid_auto_flow": null,
      "grid_auto_rows": null,
      "grid_column": null,
      "grid_gap": null,
      "grid_row": null,
      "grid_template_areas": null,
      "grid_template_columns": null,
      "grid_template_rows": null,
      "height": null,
      "justify_content": null,
      "justify_items": null,
      "left": null,
      "margin": null,
      "max_height": null,
      "max_width": null,
      "min_height": null,
      "min_width": null,
      "object_fit": null,
      "object_position": null,
      "order": null,
      "overflow": null,
      "overflow_x": null,
      "overflow_y": null,
      "padding": null,
      "right": null,
      "top": null,
      "visibility": null,
      "width": null
     }
    },
    "4b7aa5cf8f3442e186480f8d0a31f250": {
     "model_module": "@jupyter-widgets/base",
     "model_module_version": "1.2.0",
     "model_name": "LayoutModel",
     "state": {
      "_model_module": "@jupyter-widgets/base",
      "_model_module_version": "1.2.0",
      "_model_name": "LayoutModel",
      "_view_count": null,
      "_view_module": "@jupyter-widgets/base",
      "_view_module_version": "1.2.0",
      "_view_name": "LayoutView",
      "align_content": null,
      "align_items": null,
      "align_self": null,
      "border": null,
      "bottom": null,
      "display": null,
      "flex": null,
      "flex_flow": null,
      "grid_area": null,
      "grid_auto_columns": null,
      "grid_auto_flow": null,
      "grid_auto_rows": null,
      "grid_column": null,
      "grid_gap": null,
      "grid_row": null,
      "grid_template_areas": null,
      "grid_template_columns": null,
      "grid_template_rows": null,
      "height": null,
      "justify_content": null,
      "justify_items": null,
      "left": null,
      "margin": null,
      "max_height": null,
      "max_width": null,
      "min_height": null,
      "min_width": null,
      "object_fit": null,
      "object_position": null,
      "order": null,
      "overflow": null,
      "overflow_x": null,
      "overflow_y": null,
      "padding": null,
      "right": null,
      "top": null,
      "visibility": null,
      "width": null
     }
    },
    "4d9e5b749d8d48eba1530165708065e6": {
     "model_module": "@jupyter-widgets/base",
     "model_module_version": "1.2.0",
     "model_name": "LayoutModel",
     "state": {
      "_model_module": "@jupyter-widgets/base",
      "_model_module_version": "1.2.0",
      "_model_name": "LayoutModel",
      "_view_count": null,
      "_view_module": "@jupyter-widgets/base",
      "_view_module_version": "1.2.0",
      "_view_name": "LayoutView",
      "align_content": null,
      "align_items": null,
      "align_self": null,
      "border": null,
      "bottom": null,
      "display": null,
      "flex": null,
      "flex_flow": null,
      "grid_area": null,
      "grid_auto_columns": null,
      "grid_auto_flow": null,
      "grid_auto_rows": null,
      "grid_column": null,
      "grid_gap": null,
      "grid_row": null,
      "grid_template_areas": null,
      "grid_template_columns": null,
      "grid_template_rows": null,
      "height": null,
      "justify_content": null,
      "justify_items": null,
      "left": null,
      "margin": null,
      "max_height": null,
      "max_width": null,
      "min_height": null,
      "min_width": null,
      "object_fit": null,
      "object_position": null,
      "order": null,
      "overflow": null,
      "overflow_x": null,
      "overflow_y": null,
      "padding": null,
      "right": null,
      "top": null,
      "visibility": null,
      "width": null
     }
    },
    "53d6709da99e477d9095ad6e54d8bed1": {
     "model_module": "@jupyter-widgets/controls",
     "model_module_version": "1.5.0",
     "model_name": "ProgressStyleModel",
     "state": {
      "_model_module": "@jupyter-widgets/controls",
      "_model_module_version": "1.5.0",
      "_model_name": "ProgressStyleModel",
      "_view_count": null,
      "_view_module": "@jupyter-widgets/base",
      "_view_module_version": "1.2.0",
      "_view_name": "StyleView",
      "bar_color": null,
      "description_width": ""
     }
    },
    "6059029c4c764282b6f8f11743e9dd36": {
     "model_module": "@jupyter-widgets/controls",
     "model_module_version": "1.5.0",
     "model_name": "HTMLModel",
     "state": {
      "_dom_classes": [],
      "_model_module": "@jupyter-widgets/controls",
      "_model_module_version": "1.5.0",
      "_model_name": "HTMLModel",
      "_view_count": null,
      "_view_module": "@jupyter-widgets/controls",
      "_view_module_version": "1.5.0",
      "_view_name": "HTMLView",
      "description": "",
      "description_tooltip": null,
      "layout": "IPY_MODEL_f680d6ff72304e6b9f3ac0ca08b7c9f6",
      "placeholder": "​",
      "style": "IPY_MODEL_323ef079bdcc475b8f81d531537f77b2",
      "value": "100%"
     }
    },
    "abc320e780ee479ca4009b762cc07baa": {
     "model_module": "@jupyter-widgets/controls",
     "model_module_version": "1.5.0",
     "model_name": "FloatProgressModel",
     "state": {
      "_dom_classes": [],
      "_model_module": "@jupyter-widgets/controls",
      "_model_module_version": "1.5.0",
      "_model_name": "FloatProgressModel",
      "_view_count": null,
      "_view_module": "@jupyter-widgets/controls",
      "_view_module_version": "1.5.0",
      "_view_name": "ProgressView",
      "bar_style": "success",
      "description": "",
      "description_tooltip": null,
      "layout": "IPY_MODEL_447292ee8e93418ab4e64cb8e49340dc",
      "max": 8,
      "min": 0,
      "orientation": "horizontal",
      "style": "IPY_MODEL_53d6709da99e477d9095ad6e54d8bed1",
      "value": 8
     }
    },
    "b6f14821912a486689d881a01e960b10": {
     "model_module": "@jupyter-widgets/controls",
     "model_module_version": "1.5.0",
     "model_name": "DescriptionStyleModel",
     "state": {
      "_model_module": "@jupyter-widgets/controls",
      "_model_module_version": "1.5.0",
      "_model_name": "DescriptionStyleModel",
      "_view_count": null,
      "_view_module": "@jupyter-widgets/base",
      "_view_module_version": "1.2.0",
      "_view_name": "StyleView",
      "description_width": ""
     }
    },
    "ba6133e0168f4d5cac3e486756c3b419": {
     "model_module": "@jupyter-widgets/base",
     "model_module_version": "1.2.0",
     "model_name": "LayoutModel",
     "state": {
      "_model_module": "@jupyter-widgets/base",
      "_model_module_version": "1.2.0",
      "_model_name": "LayoutModel",
      "_view_count": null,
      "_view_module": "@jupyter-widgets/base",
      "_view_module_version": "1.2.0",
      "_view_name": "LayoutView",
      "align_content": null,
      "align_items": null,
      "align_self": null,
      "border": null,
      "bottom": null,
      "display": null,
      "flex": null,
      "flex_flow": null,
      "grid_area": null,
      "grid_auto_columns": null,
      "grid_auto_flow": null,
      "grid_auto_rows": null,
      "grid_column": null,
      "grid_gap": null,
      "grid_row": null,
      "grid_template_areas": null,
      "grid_template_columns": null,
      "grid_template_rows": null,
      "height": null,
      "justify_content": null,
      "justify_items": null,
      "left": null,
      "margin": null,
      "max_height": null,
      "max_width": null,
      "min_height": null,
      "min_width": null,
      "object_fit": null,
      "object_position": null,
      "order": null,
      "overflow": null,
      "overflow_x": null,
      "overflow_y": null,
      "padding": null,
      "right": null,
      "top": null,
      "visibility": null,
      "width": null
     }
    },
    "bbac8a4cf4654f5ca09bcf0c851a4d29": {
     "model_module": "@jupyter-widgets/base",
     "model_module_version": "1.2.0",
     "model_name": "LayoutModel",
     "state": {
      "_model_module": "@jupyter-widgets/base",
      "_model_module_version": "1.2.0",
      "_model_name": "LayoutModel",
      "_view_count": null,
      "_view_module": "@jupyter-widgets/base",
      "_view_module_version": "1.2.0",
      "_view_name": "LayoutView",
      "align_content": null,
      "align_items": null,
      "align_self": null,
      "border": null,
      "bottom": null,
      "display": null,
      "flex": null,
      "flex_flow": null,
      "grid_area": null,
      "grid_auto_columns": null,
      "grid_auto_flow": null,
      "grid_auto_rows": null,
      "grid_column": null,
      "grid_gap": null,
      "grid_row": null,
      "grid_template_areas": null,
      "grid_template_columns": null,
      "grid_template_rows": null,
      "height": null,
      "justify_content": null,
      "justify_items": null,
      "left": null,
      "margin": null,
      "max_height": null,
      "max_width": null,
      "min_height": null,
      "min_width": null,
      "object_fit": null,
      "object_position": null,
      "order": null,
      "overflow": null,
      "overflow_x": null,
      "overflow_y": null,
      "padding": null,
      "right": null,
      "top": null,
      "visibility": null,
      "width": null
     }
    },
    "bf2fccac2007458aade3cfa31732318f": {
     "model_module": "@jupyter-widgets/base",
     "model_module_version": "1.2.0",
     "model_name": "LayoutModel",
     "state": {
      "_model_module": "@jupyter-widgets/base",
      "_model_module_version": "1.2.0",
      "_model_name": "LayoutModel",
      "_view_count": null,
      "_view_module": "@jupyter-widgets/base",
      "_view_module_version": "1.2.0",
      "_view_name": "LayoutView",
      "align_content": null,
      "align_items": null,
      "align_self": null,
      "border": null,
      "bottom": null,
      "display": null,
      "flex": null,
      "flex_flow": null,
      "grid_area": null,
      "grid_auto_columns": null,
      "grid_auto_flow": null,
      "grid_auto_rows": null,
      "grid_column": null,
      "grid_gap": null,
      "grid_row": null,
      "grid_template_areas": null,
      "grid_template_columns": null,
      "grid_template_rows": null,
      "height": null,
      "justify_content": null,
      "justify_items": null,
      "left": null,
      "margin": null,
      "max_height": null,
      "max_width": null,
      "min_height": null,
      "min_width": null,
      "object_fit": null,
      "object_position": null,
      "order": null,
      "overflow": null,
      "overflow_x": null,
      "overflow_y": null,
      "padding": null,
      "right": null,
      "top": null,
      "visibility": null,
      "width": null
     }
    },
    "dfe244ceb21341fdb1e01bd5b33ca8e7": {
     "model_module": "@jupyter-widgets/controls",
     "model_module_version": "1.5.0",
     "model_name": "DescriptionStyleModel",
     "state": {
      "_model_module": "@jupyter-widgets/controls",
      "_model_module_version": "1.5.0",
      "_model_name": "DescriptionStyleModel",
      "_view_count": null,
      "_view_module": "@jupyter-widgets/base",
      "_view_module_version": "1.2.0",
      "_view_name": "StyleView",
      "description_width": ""
     }
    },
    "e2dc466fb70c4abdb778a7fb91696dee": {
     "model_module": "@jupyter-widgets/base",
     "model_module_version": "1.2.0",
     "model_name": "LayoutModel",
     "state": {
      "_model_module": "@jupyter-widgets/base",
      "_model_module_version": "1.2.0",
      "_model_name": "LayoutModel",
      "_view_count": null,
      "_view_module": "@jupyter-widgets/base",
      "_view_module_version": "1.2.0",
      "_view_name": "LayoutView",
      "align_content": null,
      "align_items": null,
      "align_self": null,
      "border": null,
      "bottom": null,
      "display": null,
      "flex": null,
      "flex_flow": null,
      "grid_area": null,
      "grid_auto_columns": null,
      "grid_auto_flow": null,
      "grid_auto_rows": null,
      "grid_column": null,
      "grid_gap": null,
      "grid_row": null,
      "grid_template_areas": null,
      "grid_template_columns": null,
      "grid_template_rows": null,
      "height": null,
      "justify_content": null,
      "justify_items": null,
      "left": null,
      "margin": null,
      "max_height": null,
      "max_width": null,
      "min_height": null,
      "min_width": null,
      "object_fit": null,
      "object_position": null,
      "order": null,
      "overflow": null,
      "overflow_x": null,
      "overflow_y": null,
      "padding": null,
      "right": null,
      "top": null,
      "visibility": null,
      "width": null
     }
    },
    "f64d5805c76a43dc97f0414e9f9292cf": {
     "model_module": "@jupyter-widgets/controls",
     "model_module_version": "1.5.0",
     "model_name": "HBoxModel",
     "state": {
      "_dom_classes": [],
      "_model_module": "@jupyter-widgets/controls",
      "_model_module_version": "1.5.0",
      "_model_name": "HBoxModel",
      "_view_count": null,
      "_view_module": "@jupyter-widgets/controls",
      "_view_module_version": "1.5.0",
      "_view_name": "HBoxView",
      "box_style": "",
      "children": [
       "IPY_MODEL_25f5cd664089466094051514c1bfd13b",
       "IPY_MODEL_3888c55132084f6d89d4848900c1054b",
       "IPY_MODEL_0b8f516f08a143c1a85f9e2585ed6d51"
      ],
      "layout": "IPY_MODEL_e2dc466fb70c4abdb778a7fb91696dee"
     }
    },
    "f680d6ff72304e6b9f3ac0ca08b7c9f6": {
     "model_module": "@jupyter-widgets/base",
     "model_module_version": "1.2.0",
     "model_name": "LayoutModel",
     "state": {
      "_model_module": "@jupyter-widgets/base",
      "_model_module_version": "1.2.0",
      "_model_name": "LayoutModel",
      "_view_count": null,
      "_view_module": "@jupyter-widgets/base",
      "_view_module_version": "1.2.0",
      "_view_name": "LayoutView",
      "align_content": null,
      "align_items": null,
      "align_self": null,
      "border": null,
      "bottom": null,
      "display": null,
      "flex": null,
      "flex_flow": null,
      "grid_area": null,
      "grid_auto_columns": null,
      "grid_auto_flow": null,
      "grid_auto_rows": null,
      "grid_column": null,
      "grid_gap": null,
      "grid_row": null,
      "grid_template_areas": null,
      "grid_template_columns": null,
      "grid_template_rows": null,
      "height": null,
      "justify_content": null,
      "justify_items": null,
      "left": null,
      "margin": null,
      "max_height": null,
      "max_width": null,
      "min_height": null,
      "min_width": null,
      "object_fit": null,
      "object_position": null,
      "order": null,
      "overflow": null,
      "overflow_x": null,
      "overflow_y": null,
      "padding": null,
      "right": null,
      "top": null,
      "visibility": null,
      "width": null
     }
    },
    "fcb2fd20d56e4ae48da922dcbb70ddfb": {
     "model_module": "@jupyter-widgets/controls",
     "model_module_version": "1.5.0",
     "model_name": "ProgressStyleModel",
     "state": {
      "_model_module": "@jupyter-widgets/controls",
      "_model_module_version": "1.5.0",
      "_model_name": "ProgressStyleModel",
      "_view_count": null,
      "_view_module": "@jupyter-widgets/base",
      "_view_module_version": "1.2.0",
      "_view_name": "StyleView",
      "bar_color": null,
      "description_width": ""
     }
    },
    "fd472c1f51834777aee69cfc4ff9e3ab": {
     "model_module": "@jupyter-widgets/controls",
     "model_module_version": "1.5.0",
     "model_name": "HBoxModel",
     "state": {
      "_dom_classes": [],
      "_model_module": "@jupyter-widgets/controls",
      "_model_module_version": "1.5.0",
      "_model_name": "HBoxModel",
      "_view_count": null,
      "_view_module": "@jupyter-widgets/controls",
      "_view_module_version": "1.5.0",
      "_view_name": "HBoxView",
      "box_style": "",
      "children": [
       "IPY_MODEL_6059029c4c764282b6f8f11743e9dd36",
       "IPY_MODEL_abc320e780ee479ca4009b762cc07baa",
       "IPY_MODEL_00d300a67702415e86967febc8745e82"
      ],
      "layout": "IPY_MODEL_ba6133e0168f4d5cac3e486756c3b419"
     }
    }
   }
  }
 },
 "nbformat": 4,
 "nbformat_minor": 0
}
